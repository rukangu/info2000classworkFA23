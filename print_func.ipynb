{
 "cells": [
  {
   "cell_type": "code",
   "execution_count": 3,
   "id": "6d458407-6adb-46a7-8cd6-7ecb81591451",
   "metadata": {},
   "outputs": [],
   "source": [
    "string1 = 'hello'\n",
    "string2 = 'world'\n",
    "\n",
    "my_sep = '---'"
   ]
  },
  {
   "cell_type": "code",
   "execution_count": 2,
   "id": "5f283d09-4fb6-4b59-8b6b-80e2dacaa094",
   "metadata": {},
   "outputs": [
    {
     "name": "stdout",
     "output_type": "stream",
     "text": [
      "hello world\n"
     ]
    }
   ],
   "source": [
    "print(string1,string2)"
   ]
  },
  {
   "cell_type": "code",
   "execution_count": 4,
   "id": "cd1cf44d-3f73-4915-9a26-4ad0cce06951",
   "metadata": {},
   "outputs": [
    {
     "name": "stdout",
     "output_type": "stream",
     "text": [
      "hello---world\n"
     ]
    }
   ],
   "source": [
    "print(string1,string2, sep= my_sep)"
   ]
  },
  {
   "cell_type": "code",
   "execution_count": 5,
   "id": "9f830d68-1b0f-4494-9f24-6676e5d9bcb9",
   "metadata": {},
   "outputs": [
    {
     "name": "stdout",
     "output_type": "stream",
     "text": [
      "hello worldhello worldhello worldhello worldhello world"
     ]
    }
   ],
   "source": [
    "for i in range(5):\n",
    "    print(string1,string2, end ='')"
   ]
  },
  {
   "cell_type": "code",
   "execution_count": 6,
   "id": "b2258fa6-44a0-4d91-b40a-5a06a9125a38",
   "metadata": {},
   "outputs": [
    {
     "name": "stdout",
     "output_type": "stream",
     "text": [
      "hello world\thello world\thello world\thello world\thello world\t"
     ]
    }
   ],
   "source": [
    "for i in range(5):\n",
    "    print(string1,string2, end ='\\t')"
   ]
  },
  {
   "cell_type": "code",
   "execution_count": 7,
   "id": "ae8b715c-642c-49e2-8b91-5ae9c254c30b",
   "metadata": {},
   "outputs": [
    {
     "name": "stdout",
     "output_type": "stream",
     "text": [
      "0---0\n",
      "1---5\n",
      "2---10\n",
      "3---15\n",
      "4---20\n"
     ]
    }
   ],
   "source": [
    "for i in range (5):\n",
    "    print(i, i*5, sep = my_sep, end='')\n",
    "    print()"
   ]
  },
  {
   "cell_type": "code",
   "execution_count": null,
   "id": "ff32f145-b9d6-4b22-ae60-7b7be829999e",
   "metadata": {},
   "outputs": [],
   "source": []
  }
 ],
 "metadata": {
  "kernelspec": {
   "display_name": "info2000",
   "language": "python",
   "name": "info2000"
  },
  "language_info": {
   "codemirror_mode": {
    "name": "ipython",
    "version": 3
   },
   "file_extension": ".py",
   "mimetype": "text/x-python",
   "name": "python",
   "nbconvert_exporter": "python",
   "pygments_lexer": "ipython3",
   "version": "3.9.16"
  }
 },
 "nbformat": 4,
 "nbformat_minor": 5
}
