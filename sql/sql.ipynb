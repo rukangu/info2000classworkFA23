{
 "cells": [
  {
   "cell_type": "code",
   "execution_count": 2,
   "metadata": {},
   "outputs": [],
   "source": [
    "import sqlite3\n",
    "import pandas as pd\n"
   ]
  },
  {
   "cell_type": "code",
   "execution_count": 3,
   "metadata": {},
   "outputs": [],
   "source": [
    "#intialize the database from a script\n",
    "DB_FILE = 'student_db'\n",
    "initscript = 'initdb.sql'\n",
    "with sqlite3.connect(DB_FILE) as con:\n",
    "    with open(initscript,'r') as f:\n",
    "        sql_commands = f.read()\n",
    "        con.executescript(sql_commands)"
   ]
  },
  {
   "cell_type": "code",
   "execution_count": 4,
   "metadata": {},
   "outputs": [
    {
     "data": {
      "text/plain": [
       "<sqlite3.Cursor at 0x1d117b675e0>"
      ]
     },
     "execution_count": 4,
     "metadata": {},
     "output_type": "execute_result"
    }
   ],
   "source": [
    "# drop table \n",
    "con.execute('DROP TABLE IF EXISTS student')\n"
   ]
  },
  {
   "cell_type": "code",
   "execution_count": 5,
   "metadata": {},
   "outputs": [
    {
     "ename": "OperationalError",
     "evalue": "no such table: student",
     "output_type": "error",
     "traceback": [
      "\u001b[1;31m---------------------------------------------------------------------------\u001b[0m",
      "\u001b[1;31mOperationalError\u001b[0m                          Traceback (most recent call last)",
      "\u001b[1;32md:\\INFO2000\\info2000classwork\\sql\\sql.ipynb Cell 4\u001b[0m line \u001b[0;36m1\n\u001b[1;32m----> <a href='vscode-notebook-cell:/d%3A/INFO2000/info2000classwork/sql/sql.ipynb#W3sZmlsZQ%3D%3D?line=0'>1</a>\u001b[0m con\u001b[39m.\u001b[39;49mexecute(\u001b[39m'\u001b[39;49m\u001b[39mSELECT * FROM student\u001b[39;49m\u001b[39m'\u001b[39;49m)\n",
      "\u001b[1;31mOperationalError\u001b[0m: no such table: student"
     ]
    }
   ],
   "source": [
    "con.execute('SELECT * FROM student')"
   ]
  },
  {
   "cell_type": "code",
   "execution_count": 6,
   "metadata": {},
   "outputs": [],
   "source": [
    "# create the table again\n",
    "con.execute('''CREATE TABLE IF NOT EXISTS student( \n",
    "first_name TEXT NOT NULL,\n",
    "last_name TEXT NOT NULL, \n",
    "age INT NOT NULL,\n",
    "id INT PRIMARY KEY\n",
    ");\n",
    "''')\n",
    "con.commit() #confirm that the command has ran"
   ]
  },
  {
   "cell_type": "code",
   "execution_count": 7,
   "metadata": {},
   "outputs": [
    {
     "data": {
      "text/plain": [
       "<sqlite3.Cursor at 0x1d117b67650>"
      ]
     },
     "execution_count": 7,
     "metadata": {},
     "output_type": "execute_result"
    }
   ],
   "source": [
    "# insert values\n",
    "to_insert = [(\"Andrew\",\"Rukangu\",50,5),\n",
    "                 (\"Marie\",\"Curie\",100,6),\n",
    "                 (\"Spongebob\", \"Squarepants\",50,7),\n",
    "                 (\"Tom\", \"Jerry\",60,8)\n",
    "                 ]\n",
    "con.executemany(\"INSERT INTO student VALUES (?,?,?,?)\", to_insert)"
   ]
  },
  {
   "cell_type": "code",
   "execution_count": 8,
   "metadata": {},
   "outputs": [
    {
     "data": {
      "text/plain": [
       "[('Andrew', 'Rukangu', 50, 5),\n",
       " ('Marie', 'Curie', 100, 6),\n",
       " ('Spongebob', 'Squarepants', 50, 7),\n",
       " ('Tom', 'Jerry', 60, 8)]"
      ]
     },
     "execution_count": 8,
     "metadata": {},
     "output_type": "execute_result"
    }
   ],
   "source": [
    "con.execute('SELECT * FROM student').fetchall()"
   ]
  },
  {
   "cell_type": "code",
   "execution_count": 9,
   "metadata": {},
   "outputs": [
    {
     "data": {
      "text/plain": [
       "<sqlite3.Cursor at 0x1d117b67340>"
      ]
     },
     "execution_count": 9,
     "metadata": {},
     "output_type": "execute_result"
    }
   ],
   "source": [
    "#insert one record\n",
    "con.execute(\"INSERT INTO student VALUES(?,?,?,?)\", ('Albert', 'Einstein',100,9))"
   ]
  },
  {
   "cell_type": "code",
   "execution_count": 11,
   "metadata": {},
   "outputs": [
    {
     "data": {
      "text/plain": [
       "[('Andrew', 'Rukangu', 50, 5),\n",
       " ('Marie', 'Curie', 100, 6),\n",
       " ('Spongebob', 'Squarepants', 50, 7),\n",
       " ('Tom', 'Jerry', 60, 8),\n",
       " ('Albert', 'Einstein', 100, 9)]"
      ]
     },
     "execution_count": 11,
     "metadata": {},
     "output_type": "execute_result"
    }
   ],
   "source": [
    "con.execute('SELECT * FROM student').fetchall()"
   ]
  },
  {
   "cell_type": "code",
   "execution_count": 12,
   "metadata": {},
   "outputs": [
    {
     "data": {
      "text/plain": [
       "[('Marie', 'Curie', 100, 6),\n",
       " ('Tom', 'Jerry', 60, 8),\n",
       " ('Albert', 'Einstein', 100, 9)]"
      ]
     },
     "execution_count": 12,
     "metadata": {},
     "output_type": "execute_result"
    }
   ],
   "source": [
    "# select based on condition: age > 50\n",
    "con.execute('SELECT * FROM student WHERE age>50').fetchall()"
   ]
  },
  {
   "cell_type": "code",
   "execution_count": 14,
   "metadata": {},
   "outputs": [
    {
     "data": {
      "text/html": [
       "<div>\n",
       "<style scoped>\n",
       "    .dataframe tbody tr th:only-of-type {\n",
       "        vertical-align: middle;\n",
       "    }\n",
       "\n",
       "    .dataframe tbody tr th {\n",
       "        vertical-align: top;\n",
       "    }\n",
       "\n",
       "    .dataframe thead th {\n",
       "        text-align: right;\n",
       "    }\n",
       "</style>\n",
       "<table border=\"1\" class=\"dataframe\">\n",
       "  <thead>\n",
       "    <tr style=\"text-align: right;\">\n",
       "      <th></th>\n",
       "      <th>first_name</th>\n",
       "      <th>last_name</th>\n",
       "      <th>age</th>\n",
       "      <th>id</th>\n",
       "    </tr>\n",
       "  </thead>\n",
       "  <tbody>\n",
       "    <tr>\n",
       "      <th>0</th>\n",
       "      <td>Andrew</td>\n",
       "      <td>Rukangu</td>\n",
       "      <td>50</td>\n",
       "      <td>5</td>\n",
       "    </tr>\n",
       "    <tr>\n",
       "      <th>1</th>\n",
       "      <td>Marie</td>\n",
       "      <td>Curie</td>\n",
       "      <td>100</td>\n",
       "      <td>6</td>\n",
       "    </tr>\n",
       "    <tr>\n",
       "      <th>2</th>\n",
       "      <td>Spongebob</td>\n",
       "      <td>Squarepants</td>\n",
       "      <td>50</td>\n",
       "      <td>7</td>\n",
       "    </tr>\n",
       "    <tr>\n",
       "      <th>3</th>\n",
       "      <td>Tom</td>\n",
       "      <td>Jerry</td>\n",
       "      <td>60</td>\n",
       "      <td>8</td>\n",
       "    </tr>\n",
       "    <tr>\n",
       "      <th>4</th>\n",
       "      <td>Albert</td>\n",
       "      <td>Einstein</td>\n",
       "      <td>100</td>\n",
       "      <td>9</td>\n",
       "    </tr>\n",
       "  </tbody>\n",
       "</table>\n",
       "</div>"
      ],
      "text/plain": [
       "  first_name    last_name  age  id\n",
       "0     Andrew      Rukangu   50   5\n",
       "1      Marie        Curie  100   6\n",
       "2  Spongebob  Squarepants   50   7\n",
       "3        Tom        Jerry   60   8\n",
       "4     Albert     Einstein  100   9"
      ]
     },
     "execution_count": 14,
     "metadata": {},
     "output_type": "execute_result"
    }
   ],
   "source": [
    "# read data into pandas df\n",
    "df=pd.read_sql('SELECT * FROM student', con)\n",
    "df.head()"
   ]
  },
  {
   "cell_type": "code",
   "execution_count": 15,
   "metadata": {},
   "outputs": [
    {
     "data": {
      "text/plain": [
       "<sqlite3.Cursor at 0x1d117be8650>"
      ]
     },
     "execution_count": 15,
     "metadata": {},
     "output_type": "execute_result"
    }
   ],
   "source": [
    "# rename table\n",
    "command = '''ALTER TABLE student RENAME TO students;'''\n",
    "con.execute(command)"
   ]
  },
  {
   "cell_type": "code",
   "execution_count": 16,
   "metadata": {},
   "outputs": [
    {
     "data": {
      "text/plain": [
       "[('Andrew', 'Rukangu'),\n",
       " ('Marie', 'Curie'),\n",
       " ('Spongebob', 'Squarepants'),\n",
       " ('Tom', 'Jerry'),\n",
       " ('Albert', 'Einstein')]"
      ]
     },
     "execution_count": 16,
     "metadata": {},
     "output_type": "execute_result"
    }
   ],
   "source": [
    "# select specific columns \n",
    "command = '''SELECT first_name, last_name FROM students'''\n",
    "con.execute(command).fetchall()"
   ]
  },
  {
   "cell_type": "code",
   "execution_count": 17,
   "metadata": {},
   "outputs": [
    {
     "data": {
      "text/plain": [
       "[('Andrew', 'Rukangu', 50, 5), ('Albert', 'Einstein', 100, 9)]"
      ]
     },
     "execution_count": 17,
     "metadata": {},
     "output_type": "execute_result"
    }
   ],
   "source": [
    "# search using LIKE\n",
    "\n",
    "command = '''SELECT * FROM students WHERE first_name LIKE \"a%\"'''\n",
    "con.execute(command).fetchall()"
   ]
  },
  {
   "cell_type": "markdown",
   "metadata": {},
   "source": [
    "- %\tRepresents zero or more characters\n",
    "- _\tRepresents a single character\n",
    "- []\tRepresents any single character within the brackets *\n",
    "- ^\tRepresents any character not in the brackets *\n",
    "- \\-\tRepresents any single character within the specified range *\n",
    "- {}\tRepresents any escaped character **"
   ]
  },
  {
   "cell_type": "code",
   "execution_count": 18,
   "metadata": {},
   "outputs": [
    {
     "data": {
      "text/plain": [
       "[('Andrew', 'Rukangu', 50, 5),\n",
       " ('Marie', 'Curie', 100, 6),\n",
       " ('Spongebob', 'Squarepants', 50, 7),\n",
       " ('Tom', 'Jerry', 60, 8),\n",
       " ('Albert', 'Einstein', 100, 9)]"
      ]
     },
     "execution_count": 18,
     "metadata": {},
     "output_type": "execute_result"
    }
   ],
   "source": [
    "# insert one record using dict method\n",
    "command = \"\"\"INSERT INTO students (first_name, last_name,age,id) VALUES(:fname,:lname,:age,:id)\"\"\"\n",
    "params = {'fname':'Von', 'lname':'Neumann','age':60,'id':12}\n",
    "con.execute('SELECT * FROM students').fetchall()"
   ]
  },
  {
   "cell_type": "code",
   "execution_count": null,
   "metadata": {},
   "outputs": [],
   "source": []
  }
 ],
 "metadata": {
  "kernelspec": {
   "display_name": "info2000",
   "language": "python",
   "name": "python3"
  },
  "language_info": {
   "codemirror_mode": {
    "name": "ipython",
    "version": 3
   },
   "file_extension": ".py",
   "mimetype": "text/x-python",
   "name": "python",
   "nbconvert_exporter": "python",
   "pygments_lexer": "ipython3",
   "version": "3.9.16"
  }
 },
 "nbformat": 4,
 "nbformat_minor": 2
}
