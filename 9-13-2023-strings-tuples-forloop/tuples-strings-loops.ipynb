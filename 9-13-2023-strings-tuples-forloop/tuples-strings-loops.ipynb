{
 "cells": [
  {
   "cell_type": "code",
   "execution_count": null,
   "id": "fce11ddc-a596-40e8-8c74-6cbc6ce34154",
   "metadata": {},
   "outputs": [],
   "source": [
    "#augmented assignemnt ---deletion\n",
    "age = 20\n",
    "age = age + 1\n",
    "age += 1 #identical to above"
   ]
  },
  {
   "cell_type": "code",
   "execution_count": null,
   "id": "7f4d8fba-1a21-4d36-9162-5d158d70673b",
   "metadata": {},
   "outputs": [],
   "source": [
    "age"
   ]
  },
  {
   "cell_type": "code",
   "execution_count": null,
   "id": "51ad334a-7d57-4582-b2fb-f94347343b20",
   "metadata": {},
   "outputs": [],
   "source": [
    "age = age + 1\n",
    "age"
   ]
  },
  {
   "cell_type": "code",
   "execution_count": null,
   "id": "9e36e87c-1382-47f5-8c79-ac96d2616097",
   "metadata": {},
   "outputs": [],
   "source": [
    "age += 1 #identical to above\n",
    "age"
   ]
  },
  {
   "cell_type": "code",
   "execution_count": null,
   "id": "dd05cc29-696c-4c9b-ac56-b45ed2c347f8",
   "metadata": {},
   "outputs": [],
   "source": [
    "age*=2\n",
    "age"
   ]
  },
  {
   "cell_type": "code",
   "execution_count": null,
   "id": "b7cd324d-75f4-4b8e-9a9e-4cf759a80f59",
   "metadata": {},
   "outputs": [],
   "source": [
    "age"
   ]
  },
  {
   "cell_type": "code",
   "execution_count": null,
   "id": "1366c1ed-f3f7-4010-946d-32829a9956ed",
   "metadata": {},
   "outputs": [],
   "source": [
    "# deletion\n",
    "\n",
    "my_list = [1,2,3,4,5]\n",
    "\n",
    "print(f'my_list before deletion {my_list}')\n",
    "# delete the first item\n",
    "del(my_list[0])\n",
    "\n",
    "print(f'my list after deleting the first element\" {my_list}')"
   ]
  },
  {
   "cell_type": "code",
   "execution_count": null,
   "id": "26bf4330-8226-4b0f-8e16-a1d8fd83803b",
   "metadata": {},
   "outputs": [],
   "source": [
    "# delete the list\n",
    "del(my_list)"
   ]
  },
  {
   "cell_type": "code",
   "execution_count": null,
   "id": "578950fe-cae6-45ca-8299-481ee72a11e5",
   "metadata": {},
   "outputs": [],
   "source": [
    "# access after deletion\n",
    "my_list"
   ]
  },
  {
   "cell_type": "markdown",
   "id": "aa1c31fc-ec7c-496b-82bc-e331599d6866",
   "metadata": {},
   "source": [
    "# tuples"
   ]
  },
  {
   "cell_type": "code",
   "execution_count": null,
   "id": "b9bdf987-6c96-47c2-9c4b-3e1ab0bcc4d6",
   "metadata": {},
   "outputs": [],
   "source": [
    "my_tuple = 1,2,3\n",
    "my_tuple2 = (4,5,6)"
   ]
  },
  {
   "cell_type": "code",
   "execution_count": null,
   "id": "a3a8fc89-ce7f-44c3-8da9-4664973e0d4e",
   "metadata": {},
   "outputs": [],
   "source": [
    "type(my_tuple)\n"
   ]
  },
  {
   "cell_type": "code",
   "execution_count": null,
   "id": "ba22961b-53c4-41e1-b233-4357fd1c0fdb",
   "metadata": {},
   "outputs": [],
   "source": [
    "my_tuple[0]"
   ]
  },
  {
   "cell_type": "code",
   "execution_count": null,
   "id": "0592c810-6d5a-48cd-bae3-4f6b18705628",
   "metadata": {},
   "outputs": [],
   "source": [
    "my_tuple[0] = 1000 # cannot change after creation\n"
   ]
  },
  {
   "cell_type": "code",
   "execution_count": null,
   "id": "4334bc59-69ba-4dbc-812a-0d076b2f7618",
   "metadata": {},
   "outputs": [],
   "source": [
    "6 in my_tuple2"
   ]
  },
  {
   "cell_type": "code",
   "execution_count": null,
   "id": "ad648b9b-1490-4cda-8c91-f2f69702e1e6",
   "metadata": {},
   "outputs": [],
   "source": [
    "'a_number' in my_tuple"
   ]
  },
  {
   "cell_type": "code",
   "execution_count": null,
   "id": "9b6c9626-acde-4b70-931e-4763b2b85c41",
   "metadata": {},
   "outputs": [],
   "source": [
    "x,y,z = my_tuple"
   ]
  },
  {
   "cell_type": "code",
   "execution_count": null,
   "id": "a0880555-8542-4c7d-996f-70329fdab54a",
   "metadata": {},
   "outputs": [],
   "source": [
    "print(x,y,z)"
   ]
  },
  {
   "cell_type": "code",
   "execution_count": null,
   "id": "693de6ba-ef2d-4bab-b04e-3b9a04a64521",
   "metadata": {},
   "outputs": [],
   "source": [
    "my_list = [5,6,7]"
   ]
  },
  {
   "cell_type": "code",
   "execution_count": null,
   "id": "6448d501-557f-49cb-8e74-eae3724820c8",
   "metadata": {},
   "outputs": [],
   "source": [
    "a,b,c = my_list\n",
    "print(a,b,c)"
   ]
  },
  {
   "cell_type": "code",
   "execution_count": null,
   "id": "f3e4c3d3-6312-4a8c-a461-3ec9f29fd076",
   "metadata": {},
   "outputs": [],
   "source": [
    "a,b,c,d = my_tuple"
   ]
  },
  {
   "cell_type": "code",
   "execution_count": null,
   "id": "3e5ca1a3-2909-4c7f-b47a-28a6224618d2",
   "metadata": {},
   "outputs": [],
   "source": [
    "my_var1 = 10\n",
    "my_var2= 20"
   ]
  },
  {
   "cell_type": "code",
   "execution_count": null,
   "id": "3d0459f7-3d5d-471e-8575-7ecc995260f8",
   "metadata": {},
   "outputs": [],
   "source": [
    "middle = my_var1\n",
    "my_var1 = my_var2\n",
    "my_var2 = middle\n",
    "\n",
    "\n"
   ]
  },
  {
   "cell_type": "code",
   "execution_count": null,
   "id": "7d4a3755-3acf-4f45-b3b9-49964e533da5",
   "metadata": {},
   "outputs": [],
   "source": [
    "my_var1"
   ]
  },
  {
   "cell_type": "code",
   "execution_count": null,
   "id": "6d263eab-a6d3-458f-bed8-f0b2f87ddf7a",
   "metadata": {},
   "outputs": [],
   "source": [
    "my_var2"
   ]
  },
  {
   "cell_type": "code",
   "execution_count": null,
   "id": "7b798137-a32a-4529-8286-09abad7628a6",
   "metadata": {},
   "outputs": [],
   "source": [
    "my_var1, my_var2 = my_var2, my_var1"
   ]
  },
  {
   "cell_type": "code",
   "execution_count": null,
   "id": "bdd1bec7-4c63-477a-91e0-a9ddd967dc23",
   "metadata": {},
   "outputs": [],
   "source": [
    "# you can slice and access like lists\n",
    "my_tuple2[::-1]"
   ]
  },
  {
   "cell_type": "code",
   "execution_count": null,
   "id": "540b6080-c50b-405e-a2bb-49810008eb01",
   "metadata": {},
   "outputs": [],
   "source": [
    "my_name = \"Marie Curie\""
   ]
  },
  {
   "cell_type": "code",
   "execution_count": null,
   "id": "a71ba0a1-e560-46f9-86ba-501bc4ef4e09",
   "metadata": {},
   "outputs": [],
   "source": [
    "my_name"
   ]
  },
  {
   "cell_type": "code",
   "execution_count": null,
   "id": "85a05247-ab6c-4100-aaa3-a997561bfa7f",
   "metadata": {},
   "outputs": [],
   "source": [
    "dir(my_name) # functions available for a string object"
   ]
  },
  {
   "cell_type": "code",
   "execution_count": 47,
   "id": "325c2f92-c671-4952-a144-26b4933e93ad",
   "metadata": {},
   "outputs": [],
   "source": [
    "my_name2 = \"Albert Einstein\""
   ]
  },
  {
   "cell_type": "code",
   "execution_count": 48,
   "id": "96ab31ab-4e9d-49fe-b5fa-c3bb88a2650a",
   "metadata": {},
   "outputs": [
    {
     "data": {
      "text/plain": [
       "'Marie Curie\\nAlbert Einstein'"
      ]
     },
     "execution_count": 48,
     "metadata": {},
     "output_type": "execute_result"
    }
   ],
   "source": [
    "# use escape sequences\n",
    "\n",
    "both_names = my_name + \"\\n\" + my_name2\n",
    "both_names"
   ]
  },
  {
   "cell_type": "code",
   "execution_count": 49,
   "id": "8bc0b7f2-9767-46f1-8b03-bf546f4e990e",
   "metadata": {},
   "outputs": [
    {
     "name": "stdout",
     "output_type": "stream",
     "text": [
      "Marie Curie\n",
      "Albert Einstein\n"
     ]
    }
   ],
   "source": [
    "print(both_names)"
   ]
  },
  {
   "cell_type": "code",
   "execution_count": 52,
   "id": "937ea217-1504-4597-8feb-d7ff2a711f0d",
   "metadata": {},
   "outputs": [
    {
     "name": "stdout",
     "output_type": "stream",
     "text": [
      "These are quotation marks \"\"\n"
     ]
    }
   ],
   "source": [
    "# other escape sequences are there?\n",
    "\n",
    "#\\t tab\n",
    "#\\\\ for \\\n",
    "#\\\" \"\n",
    "\n",
    "print(\"These are quotation marks \\\"\\\"\")\n"
   ]
  },
  {
   "cell_type": "code",
   "execution_count": 53,
   "id": "7736dec5-80bf-4388-87a3-7c50bbb8f0c7",
   "metadata": {},
   "outputs": [
    {
     "name": "stdout",
     "output_type": "stream",
     "text": [
      "These are quotation marks '' \n"
     ]
    }
   ],
   "source": [
    "# another way\n",
    "print(\"These are quotation marks '' \")"
   ]
  },
  {
   "cell_type": "code",
   "execution_count": 54,
   "id": "778ad91c-9822-428b-b4f4-ea9217b7d4ec",
   "metadata": {},
   "outputs": [
    {
     "name": "stdout",
     "output_type": "stream",
     "text": [
      "These are quotation marks \"\" \n"
     ]
    }
   ],
   "source": [
    "# another way\n",
    "print('These are quotation marks \"\" ')"
   ]
  },
  {
   "cell_type": "code",
   "execution_count": 57,
   "id": "e4370e6a-3601-4e5f-ae86-70147804cba2",
   "metadata": {},
   "outputs": [
    {
     "ename": "SyntaxError",
     "evalue": "invalid syntax (275801010.py, line 1)",
     "output_type": "error",
     "traceback": [
      "\u001b[1;36m  Cell \u001b[1;32mIn[57], line 1\u001b[1;36m\u001b[0m\n\u001b[1;33m    print('This is a \"name\" this is a second 'name' in the string')\u001b[0m\n\u001b[1;37m                                              ^\u001b[0m\n\u001b[1;31mSyntaxError\u001b[0m\u001b[1;31m:\u001b[0m invalid syntax\n"
     ]
    }
   ],
   "source": [
    "print('This is a \"name\" this is a second 'name' in the string')"
   ]
  },
  {
   "cell_type": "code",
   "execution_count": 58,
   "id": "e910f32a-de71-424a-a0ff-c55730632f8f",
   "metadata": {},
   "outputs": [
    {
     "name": "stdout",
     "output_type": "stream",
     "text": [
      "\n",
      "This is a \"name\" this is a second 'name' in the string\n",
      "\n"
     ]
    }
   ],
   "source": [
    "my_string10 = '''\n",
    "This is a \"name\" this is a second 'name' in the string\n",
    "'''\n",
    "\n",
    "print(my_string10)"
   ]
  },
  {
   "cell_type": "code",
   "execution_count": 59,
   "id": "95f3723d-ba86-4ba0-a8c6-ba8ac7223e99",
   "metadata": {},
   "outputs": [
    {
     "name": "stdout",
     "output_type": "stream",
     "text": [
      " Dear Info2000,\n",
      "I hope this finds you well,\n",
      "Regards,\n",
      "Andrew\n"
     ]
    }
   ],
   "source": [
    "email_message  = ''' Dear Info2000,\n",
    "I hope this finds you well,\n",
    "Regards,\n",
    "Andrew'''\n",
    "\n",
    "print(email_message)"
   ]
  },
  {
   "cell_type": "code",
   "execution_count": 61,
   "id": "92a9248f-b547-4f7c-a579-08fcb8972709",
   "metadata": {},
   "outputs": [],
   "source": [
    "message = f'''a variable{my_name}'''\n"
   ]
  },
  {
   "cell_type": "code",
   "execution_count": 62,
   "id": "7ddf71df-0735-48c4-bcb7-e61aa594d337",
   "metadata": {},
   "outputs": [
    {
     "data": {
      "text/plain": [
       "'a variableMarie Curie'"
      ]
     },
     "execution_count": 62,
     "metadata": {},
     "output_type": "execute_result"
    }
   ],
   "source": [
    "message"
   ]
  },
  {
   "cell_type": "code",
   "execution_count": 66,
   "id": "e42ffc64-284c-4951-9f91-75640faa4c91",
   "metadata": {},
   "outputs": [
    {
     "name": "stdout",
     "output_type": "stream",
     "text": [
      "http:\\\\google.com\n"
     ]
    }
   ],
   "source": [
    "# raw string\n",
    "\n",
    "my_raw_string = r\"http:\\\\google.com\"\n",
    "print(my_raw_string)"
   ]
  },
  {
   "cell_type": "code",
   "execution_count": 67,
   "id": "4e5904ed-c41a-4660-8fee-054ba68b23ea",
   "metadata": {},
   "outputs": [],
   "source": [
    "string_c = 'hello ' * 3\n"
   ]
  },
  {
   "cell_type": "code",
   "execution_count": 68,
   "id": "791a054e-657a-4a1e-8d8e-d7becc7557c5",
   "metadata": {},
   "outputs": [
    {
     "data": {
      "text/plain": [
       "'hello hello hello '"
      ]
     },
     "execution_count": 68,
     "metadata": {},
     "output_type": "execute_result"
    }
   ],
   "source": [
    "string_c"
   ]
  },
  {
   "cell_type": "code",
   "execution_count": 69,
   "id": "9e4d137d-06c1-4302-a907-d5a40a214834",
   "metadata": {},
   "outputs": [
    {
     "name": "stdout",
     "output_type": "stream",
     "text": [
      "Marie curie\n"
     ]
    }
   ],
   "source": [
    "print(my_name.capitalize())"
   ]
  },
  {
   "cell_type": "code",
   "execution_count": 70,
   "id": "953b12bc-f89c-416b-a5cb-5d2d5dda04ee",
   "metadata": {},
   "outputs": [
    {
     "name": "stdout",
     "output_type": "stream",
     "text": [
      "MARIE CURIE\n"
     ]
    }
   ],
   "source": [
    "print(my_name.upper())"
   ]
  },
  {
   "cell_type": "code",
   "execution_count": 71,
   "id": "edb8f18a-ac61-4972-8e1f-3e4e9d4ee38e",
   "metadata": {},
   "outputs": [
    {
     "name": "stdout",
     "output_type": "stream",
     "text": [
      "Marie Curie\n"
     ]
    }
   ],
   "source": [
    "print(my_name.title())"
   ]
  },
  {
   "cell_type": "code",
   "execution_count": 72,
   "id": "46db328c-f396-4216-935f-5d5f2b0786c8",
   "metadata": {},
   "outputs": [
    {
     "name": "stdout",
     "output_type": "stream",
     "text": [
      "marie curie\n"
     ]
    }
   ],
   "source": [
    "print(my_name.casefold())"
   ]
  },
  {
   "cell_type": "code",
   "execution_count": 73,
   "id": "bf4a5d05-34eb-4c9a-a1fa-7c50b4a9b214",
   "metadata": {},
   "outputs": [
    {
     "data": {
      "text/plain": [
       "False"
      ]
     },
     "execution_count": 73,
     "metadata": {},
     "output_type": "execute_result"
    }
   ],
   "source": [
    "\"info2000\" == \"Info2000\""
   ]
  },
  {
   "cell_type": "code",
   "execution_count": 74,
   "id": "00c9593a-a72c-4579-952e-4d70d4aad84a",
   "metadata": {},
   "outputs": [
    {
     "data": {
      "text/plain": [
       "True"
      ]
     },
     "execution_count": 74,
     "metadata": {},
     "output_type": "execute_result"
    }
   ],
   "source": [
    "\"info2000\".casefold() == \"Info2000\".casefold()"
   ]
  },
  {
   "cell_type": "code",
   "execution_count": 75,
   "id": "0773a85d-6712-4236-a12e-cc37552b47a6",
   "metadata": {},
   "outputs": [
    {
     "data": {
      "text/plain": [
       "'info2000'"
      ]
     },
     "execution_count": 75,
     "metadata": {},
     "output_type": "execute_result"
    }
   ],
   "source": [
    "\"info2000\".casefold()"
   ]
  },
  {
   "cell_type": "code",
   "execution_count": null,
   "id": "8637ba2f-c964-4c80-b5a7-61b326538be4",
   "metadata": {},
   "outputs": [],
   "source": []
  }
 ],
 "metadata": {
  "kernelspec": {
   "display_name": "info2000",
   "language": "python",
   "name": "info2000"
  },
  "language_info": {
   "codemirror_mode": {
    "name": "ipython",
    "version": 3
   },
   "file_extension": ".py",
   "mimetype": "text/x-python",
   "name": "python",
   "nbconvert_exporter": "python",
   "pygments_lexer": "ipython3",
   "version": "3.9.16"
  }
 },
 "nbformat": 4,
 "nbformat_minor": 5
}
