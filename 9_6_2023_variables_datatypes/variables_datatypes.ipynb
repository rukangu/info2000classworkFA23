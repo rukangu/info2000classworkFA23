{
 "cells": [
  {
   "cell_type": "code",
   "execution_count": 2,
   "id": "a8b3678f-b432-4d38-bb0a-71b194ff4175",
   "metadata": {},
   "outputs": [],
   "source": [
    "# assigning variables\n",
    "my_number = 5 #integer"
   ]
  },
  {
   "cell_type": "code",
   "execution_count": 3,
   "id": "d1897eb4-0dbb-425f-98df-8ad327e430e4",
   "metadata": {},
   "outputs": [
    {
     "data": {
      "text/plain": [
       "2141265684912"
      ]
     },
     "execution_count": 3,
     "metadata": {},
     "output_type": "execute_result"
    }
   ],
   "source": [
    "id(my_number)"
   ]
  },
  {
   "cell_type": "code",
   "execution_count": 4,
   "id": "0f99d4df-1500-4457-80ef-029df66295d9",
   "metadata": {},
   "outputs": [],
   "source": [
    "my_second_number = my_number"
   ]
  },
  {
   "cell_type": "code",
   "execution_count": 6,
   "id": "b2565ca3-fefc-463c-8068-8ce81700c36f",
   "metadata": {},
   "outputs": [
    {
     "name": "stdout",
     "output_type": "stream",
     "text": [
      "5\n"
     ]
    }
   ],
   "source": [
    "print(my_second_number)"
   ]
  },
  {
   "cell_type": "code",
   "execution_count": 7,
   "id": "af9338e5-5704-484a-98f7-1f15bc61dfa5",
   "metadata": {},
   "outputs": [
    {
     "data": {
      "text/plain": [
       "2141265684912"
      ]
     },
     "execution_count": 7,
     "metadata": {},
     "output_type": "execute_result"
    }
   ],
   "source": [
    "id(my_second_number)"
   ]
  },
  {
   "cell_type": "code",
   "execution_count": 8,
   "id": "3a1765e5-f656-4447-93c3-09df99e36a4d",
   "metadata": {},
   "outputs": [
    {
     "data": {
      "text/plain": [
       "2141265684912"
      ]
     },
     "execution_count": 8,
     "metadata": {},
     "output_type": "execute_result"
    }
   ],
   "source": [
    "id(5)"
   ]
  },
  {
   "cell_type": "code",
   "execution_count": 9,
   "id": "179917f0-e597-4966-ad03-684e65d244e4",
   "metadata": {},
   "outputs": [
    {
     "ename": "SyntaxError",
     "evalue": "cannot assign to True (922659677.py, line 1)",
     "output_type": "error",
     "traceback": [
      "\u001b[1;36m  Cell \u001b[1;32mIn[9], line 1\u001b[1;36m\u001b[0m\n\u001b[1;33m    True = 5\u001b[0m\n\u001b[1;37m    ^\u001b[0m\n\u001b[1;31mSyntaxError\u001b[0m\u001b[1;31m:\u001b[0m cannot assign to True\n"
     ]
    }
   ],
   "source": [
    "True = 5"
   ]
  },
  {
   "cell_type": "code",
   "execution_count": 10,
   "id": "aff02494-2b36-440d-9fc9-6e7cfa131c32",
   "metadata": {},
   "outputs": [],
   "source": [
    "an_example_variable_with_True = 5"
   ]
  },
  {
   "cell_type": "code",
   "execution_count": 11,
   "id": "d1354b3c-0def-44b7-a521-feee0fd13bfe",
   "metadata": {},
   "outputs": [],
   "source": [
    "my_complex_number = complex(10, 5)"
   ]
  },
  {
   "cell_type": "code",
   "execution_count": 12,
   "id": "6063ecf4-8077-4732-a896-b47fcf686d63",
   "metadata": {},
   "outputs": [
    {
     "data": {
      "text/plain": [
       "3"
      ]
     },
     "execution_count": 12,
     "metadata": {},
     "output_type": "execute_result"
    }
   ],
   "source": [
    "9//3"
   ]
  },
  {
   "cell_type": "code",
   "execution_count": 13,
   "id": "15c45e48-616b-471a-8ef9-576d51ddf371",
   "metadata": {},
   "outputs": [
    {
     "data": {
      "text/plain": [
       "2"
      ]
     },
     "execution_count": 13,
     "metadata": {},
     "output_type": "execute_result"
    }
   ],
   "source": [
    "5//2"
   ]
  },
  {
   "cell_type": "code",
   "execution_count": 14,
   "id": "f1267800-c4af-49eb-9089-3d1e1cc94cc0",
   "metadata": {},
   "outputs": [
    {
     "data": {
      "text/plain": [
       "0"
      ]
     },
     "execution_count": 14,
     "metadata": {},
     "output_type": "execute_result"
    }
   ],
   "source": [
    "5//9\n"
   ]
  },
  {
   "cell_type": "code",
   "execution_count": 16,
   "id": "48d45987-ae4b-4e93-ad92-8fd00ce1dec1",
   "metadata": {},
   "outputs": [
    {
     "data": {
      "text/plain": [
       "1"
      ]
     },
     "execution_count": 16,
     "metadata": {},
     "output_type": "execute_result"
    }
   ],
   "source": [
    "5%2"
   ]
  },
  {
   "cell_type": "code",
   "execution_count": 17,
   "id": "eef3be56-68fb-417f-a3ef-f742f688332d",
   "metadata": {},
   "outputs": [
    {
     "data": {
      "text/plain": [
       "0"
      ]
     },
     "execution_count": 17,
     "metadata": {},
     "output_type": "execute_result"
    }
   ],
   "source": [
    "5%5"
   ]
  },
  {
   "cell_type": "code",
   "execution_count": 18,
   "id": "b8e26473-2c69-42e3-8133-6d13735c2fc5",
   "metadata": {},
   "outputs": [
    {
     "data": {
      "text/plain": [
       "25"
      ]
     },
     "execution_count": 18,
     "metadata": {},
     "output_type": "execute_result"
    }
   ],
   "source": [
    "5**2 # power operator"
   ]
  },
  {
   "cell_type": "code",
   "execution_count": 19,
   "id": "0cac8cb7-8cfe-450e-aedd-1bbdf074f873",
   "metadata": {},
   "outputs": [],
   "source": [
    "age = 21"
   ]
  },
  {
   "cell_type": "code",
   "execution_count": 20,
   "id": "3c62cf11-c811-43d1-92d9-292a3fcfbebf",
   "metadata": {},
   "outputs": [
    {
     "name": "stdout",
     "output_type": "stream",
     "text": [
      "21\n"
     ]
    }
   ],
   "source": [
    "print(age)"
   ]
  },
  {
   "cell_type": "code",
   "execution_count": 22,
   "id": "fc281dfb-7459-4c35-8ec4-ad22e3e929ba",
   "metadata": {},
   "outputs": [
    {
     "data": {
      "text/plain": [
       "int"
      ]
     },
     "execution_count": 22,
     "metadata": {},
     "output_type": "execute_result"
    }
   ],
   "source": [
    "type(age)"
   ]
  },
  {
   "cell_type": "code",
   "execution_count": 23,
   "id": "1375f341-8d2b-4ed3-b29e-fce63ca9b99c",
   "metadata": {},
   "outputs": [
    {
     "data": {
      "text/plain": [
       "21.0"
      ]
     },
     "execution_count": 23,
     "metadata": {},
     "output_type": "execute_result"
    }
   ],
   "source": [
    "float(age)"
   ]
  },
  {
   "cell_type": "code",
   "execution_count": 24,
   "id": "61e851e9-44c6-44d1-98c4-c813ef8fc379",
   "metadata": {},
   "outputs": [
    {
     "data": {
      "text/plain": [
       "int"
      ]
     },
     "execution_count": 24,
     "metadata": {},
     "output_type": "execute_result"
    }
   ],
   "source": [
    "type(age)\n"
   ]
  },
  {
   "cell_type": "code",
   "execution_count": 25,
   "id": "cc20844b-6d25-46b7-862b-aa6a699340d3",
   "metadata": {},
   "outputs": [],
   "source": [
    "age = float(age)"
   ]
  },
  {
   "cell_type": "code",
   "execution_count": 26,
   "id": "1a385368-43b8-4293-9681-2bf479717e17",
   "metadata": {},
   "outputs": [
    {
     "data": {
      "text/plain": [
       "float"
      ]
     },
     "execution_count": 26,
     "metadata": {},
     "output_type": "execute_result"
    }
   ],
   "source": [
    "type(age)"
   ]
  },
  {
   "cell_type": "code",
   "execution_count": 41,
   "id": "b5dfdcd8-0f3b-4664-ab07-7218a6314964",
   "metadata": {},
   "outputs": [],
   "source": [
    "dad_age = 40\n",
    "son_age = 10\n",
    "daughter_age = 5.0\n",
    "daughter_age_2 = 5.0"
   ]
  },
  {
   "cell_type": "code",
   "execution_count": 39,
   "id": "53f60e64-20d2-4431-a688-247b2dfea102",
   "metadata": {},
   "outputs": [
    {
     "data": {
      "text/plain": [
       "int"
      ]
     },
     "execution_count": 39,
     "metadata": {},
     "output_type": "execute_result"
    }
   ],
   "source": [
    "type(dad_age + son_age)"
   ]
  },
  {
   "cell_type": "code",
   "execution_count": 40,
   "id": "cc82590f-8d2c-4699-ba23-f536e51f6be8",
   "metadata": {},
   "outputs": [
    {
     "data": {
      "text/plain": [
       "float"
      ]
     },
     "execution_count": 40,
     "metadata": {},
     "output_type": "execute_result"
    }
   ],
   "source": [
    "type(dad_age + daughter_age)"
   ]
  },
  {
   "cell_type": "code",
   "execution_count": 42,
   "id": "8e5808aa-5068-45b6-bd5b-44d5d947da10",
   "metadata": {},
   "outputs": [
    {
     "data": {
      "text/plain": [
       "float"
      ]
     },
     "execution_count": 42,
     "metadata": {},
     "output_type": "execute_result"
    }
   ],
   "source": [
    "type(daughter_age_2)"
   ]
  },
  {
   "cell_type": "code",
   "execution_count": 43,
   "id": "abe90b2b-4c98-42b1-95a1-9abb88e5c6b7",
   "metadata": {},
   "outputs": [
    {
     "data": {
      "text/plain": [
       "float"
      ]
     },
     "execution_count": 43,
     "metadata": {},
     "output_type": "execute_result"
    }
   ],
   "source": [
    "type(dad_age + daughter_age_2)"
   ]
  },
  {
   "cell_type": "code",
   "execution_count": 45,
   "id": "baec19a1-3dc5-4340-a2b5-5ce5b3d011c7",
   "metadata": {},
   "outputs": [
    {
     "data": {
      "text/plain": [
       "int"
      ]
     },
     "execution_count": 45,
     "metadata": {},
     "output_type": "execute_result"
    }
   ],
   "source": [
    "type(dad_age)"
   ]
  },
  {
   "cell_type": "code",
   "execution_count": 46,
   "id": "93c099fb-7aff-4c7a-a2db-45ba8f58db82",
   "metadata": {},
   "outputs": [],
   "source": [
    "# this is a comment\n",
    "# finding the sum\n",
    "age = dad_age + son_age + daughter_age"
   ]
  },
  {
   "cell_type": "code",
   "execution_count": 47,
   "id": "ccee534d-ae42-46be-84a9-86d025457f2b",
   "metadata": {},
   "outputs": [
    {
     "name": "stdout",
     "output_type": "stream",
     "text": [
      "55.0\n"
     ]
    }
   ],
   "source": [
    "# display the age \n",
    "print (age)"
   ]
  },
  {
   "cell_type": "code",
   "execution_count": 48,
   "id": "9fddfcd6-7c73-430f-9d88-5e2879e82400",
   "metadata": {},
   "outputs": [
    {
     "data": {
      "text/plain": [
       "'\\n\\nthis is \\na \\nmultiline \\ncomment\\n'"
      ]
     },
     "execution_count": 48,
     "metadata": {},
     "output_type": "execute_result"
    }
   ],
   "source": [
    "'''\n",
    "this is \n",
    "a \n",
    "multiline \n",
    "comment\n",
    "'''"
   ]
  },
  {
   "cell_type": "code",
   "execution_count": 49,
   "id": "13778850-780a-46b5-8121-b950119ed48a",
   "metadata": {},
   "outputs": [
    {
     "data": {
      "text/plain": [
       "'\\nThis is \\nanother\\nmultiline comment\\n'"
      ]
     },
     "execution_count": 49,
     "metadata": {},
     "output_type": "execute_result"
    }
   ],
   "source": [
    "\"\"\"\n",
    "This is \n",
    "another\n",
    "multiline comment\n",
    "\"\"\""
   ]
  },
  {
   "cell_type": "code",
   "execution_count": null,
   "id": "5887188a-a104-45ba-a890-fd1553ce8f45",
   "metadata": {},
   "outputs": [],
   "source": [
    "# this \n",
    "# is another \n",
    "# way\n",
    "# to \n",
    "# do it"
   ]
  },
  {
   "cell_type": "code",
   "execution_count": 50,
   "id": "09d0fff2-eeb1-4efd-976e-c62f5a16285d",
   "metadata": {},
   "outputs": [
    {
     "name": "stdin",
     "output_type": "stream",
     "text": [
      "Enter your age 100\n"
     ]
    }
   ],
   "source": [
    "user_age = input(\"Enter your age\")"
   ]
  },
  {
   "cell_type": "code",
   "execution_count": 51,
   "id": "0e5b14ca-57a3-430b-b90b-6d917846a164",
   "metadata": {},
   "outputs": [
    {
     "data": {
      "text/plain": [
       "str"
      ]
     },
     "execution_count": 51,
     "metadata": {},
     "output_type": "execute_result"
    }
   ],
   "source": [
    "type(user_age)"
   ]
  },
  {
   "cell_type": "code",
   "execution_count": 55,
   "id": "cbfc7cd2-2043-47a2-8352-6919fe954170",
   "metadata": {},
   "outputs": [
    {
     "name": "stdin",
     "output_type": "stream",
     "text": [
      "Enter your age: \n"
     ]
    },
    {
     "ename": "ValueError",
     "evalue": "could not convert string to float: ''",
     "output_type": "error",
     "traceback": [
      "\u001b[1;31m-----------------------------------\u001b[0m",
      "\u001b[1;31mValueError\u001b[0mTraceback (most recent call last)",
      "Cell \u001b[1;32mIn[55], line 1\u001b[0m\n\u001b[1;32m----> 1\u001b[0m my_age \u001b[38;5;241m=\u001b[39m \u001b[38;5;28;43mfloat\u001b[39;49m\u001b[43m(\u001b[49m\u001b[38;5;28;43minput\u001b[39;49m\u001b[43m(\u001b[49m\u001b[38;5;124;43m\"\u001b[39;49m\u001b[38;5;124;43mEnter your age:\u001b[39;49m\u001b[38;5;124;43m\"\u001b[39;49m\u001b[43m)\u001b[49m\u001b[43m)\u001b[49m\n",
      "\u001b[1;31mValueError\u001b[0m: could not convert string to float: ''"
     ]
    }
   ],
   "source": [
    "my_age = float(input(\"Enter your age:\"))"
   ]
  },
  {
   "cell_type": "code",
   "execution_count": 54,
   "id": "effb4f5e-4e7a-4df3-87e9-c9b8767d1916",
   "metadata": {},
   "outputs": [
    {
     "data": {
      "text/plain": [
       "float"
      ]
     },
     "execution_count": 54,
     "metadata": {},
     "output_type": "execute_result"
    }
   ],
   "source": [
    "type(my_age)"
   ]
  },
  {
   "cell_type": "code",
   "execution_count": 56,
   "id": "a272a3aa-d76f-4484-89ba-da71cb27aac3",
   "metadata": {},
   "outputs": [
    {
     "name": "stdin",
     "output_type": "stream",
     "text": [
      "Enter your age: \n"
     ]
    }
   ],
   "source": [
    "age2 = input(\"Enter your age:\")"
   ]
  },
  {
   "cell_type": "code",
   "execution_count": 57,
   "id": "c2c83635-61c9-4c62-9c14-aeda48cd3dee",
   "metadata": {},
   "outputs": [
    {
     "data": {
      "text/plain": [
       "''"
      ]
     },
     "execution_count": 57,
     "metadata": {},
     "output_type": "execute_result"
    }
   ],
   "source": [
    "age2"
   ]
  },
  {
   "cell_type": "code",
   "execution_count": null,
   "id": "e6f2dea0-4789-438a-9815-66dfd471c428",
   "metadata": {},
   "outputs": [],
   "source": []
  }
 ],
 "metadata": {
  "kernelspec": {
   "display_name": "info2000",
   "language": "python",
   "name": "info2000"
  },
  "language_info": {
   "codemirror_mode": {
    "name": "ipython",
    "version": 3
   },
   "file_extension": ".py",
   "mimetype": "text/x-python",
   "name": "python",
   "nbconvert_exporter": "python",
   "pygments_lexer": "ipython3",
   "version": "3.9.16"
  }
 },
 "nbformat": 4,
 "nbformat_minor": 5
}
