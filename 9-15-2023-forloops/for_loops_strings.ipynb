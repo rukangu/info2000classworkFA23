{
 "cells": [
  {
   "cell_type": "code",
   "execution_count": 17,
   "id": "9c9da602-c8b7-4994-89ff-2ae29db5bd57",
   "metadata": {},
   "outputs": [],
   "source": [
    "#formatted string\n",
    "a_float = 3.142\n",
    "an_int = 123\n",
    "string_to_print = f\" this a variable {an_int}\""
   ]
  },
  {
   "cell_type": "code",
   "execution_count": 2,
   "id": "3c4715e5-15cc-4fc1-8c0c-3548a921f6be",
   "metadata": {},
   "outputs": [
    {
     "data": {
      "text/plain": [
       "' this a variable 100'"
      ]
     },
     "execution_count": 2,
     "metadata": {},
     "output_type": "execute_result"
    }
   ],
   "source": [
    "string_to_print"
   ]
  },
  {
   "cell_type": "code",
   "execution_count": 3,
   "id": "e2e02a88-23ac-4f49-9f78-129454a79c51",
   "metadata": {},
   "outputs": [],
   "source": [
    "string_to_print = f\"the sum is {a_float + an_int}\""
   ]
  },
  {
   "cell_type": "code",
   "execution_count": 4,
   "id": "cd5be16e-30d5-47c4-ba02-a70a731e8661",
   "metadata": {},
   "outputs": [
    {
     "name": "stdout",
     "output_type": "stream",
     "text": [
      "the sum is 103.142\n"
     ]
    }
   ],
   "source": [
    "print(string_to_print)"
   ]
  },
  {
   "cell_type": "code",
   "execution_count": 5,
   "id": "22e07ae3-45db-424c-b514-222c4c227a65",
   "metadata": {},
   "outputs": [
    {
     "name": "stdout",
     "output_type": "stream",
     "text": [
      "3.14\n"
     ]
    }
   ],
   "source": [
    "print(f\"{a_float:.2f}\")"
   ]
  },
  {
   "cell_type": "code",
   "execution_count": 9,
   "id": "0717e71d-a601-4106-8514-ebf037438e40",
   "metadata": {},
   "outputs": [
    {
     "name": "stdout",
     "output_type": "stream",
     "text": [
      "-100.00\n"
     ]
    }
   ],
   "source": [
    "print(f\"{an_int:+.2f}\") # add sign"
   ]
  },
  {
   "cell_type": "code",
   "execution_count": 19,
   "id": "b093340c-a555-451a-b8e9-836e003be53e",
   "metadata": {},
   "outputs": [
    {
     "name": "stdout",
     "output_type": "stream",
     "text": [
      "12300\n"
     ]
    }
   ],
   "source": [
    "print(f\"{an_int:0<5d}\")"
   ]
  },
  {
   "cell_type": "code",
   "execution_count": 29,
   "id": "da56549c-bc4b-479a-80d0-e7417d8e13d5",
   "metadata": {},
   "outputs": [],
   "source": [
    "my_list = [1,2,3,4,5,98,21,10]"
   ]
  },
  {
   "cell_type": "code",
   "execution_count": 21,
   "id": "d097c0da-613f-4456-9739-48dc8a32b511",
   "metadata": {},
   "outputs": [
    {
     "data": {
      "text/plain": [
       "144"
      ]
     },
     "execution_count": 21,
     "metadata": {},
     "output_type": "execute_result"
    }
   ],
   "source": [
    "sum(my_list)"
   ]
  },
  {
   "cell_type": "code",
   "execution_count": 23,
   "id": "a8218724-b517-4b5a-bfa7-52b51fc65436",
   "metadata": {},
   "outputs": [],
   "source": [
    "new_list = sorted(my_list)"
   ]
  },
  {
   "cell_type": "code",
   "execution_count": 24,
   "id": "403185c2-d54e-46aa-92a4-07c51782d6c7",
   "metadata": {},
   "outputs": [
    {
     "data": {
      "text/plain": [
       "[1, 2, 3, 4, 5, 10, 21, 98]"
      ]
     },
     "execution_count": 24,
     "metadata": {},
     "output_type": "execute_result"
    }
   ],
   "source": [
    "new_list"
   ]
  },
  {
   "cell_type": "code",
   "execution_count": 30,
   "id": "7266e794-1c62-4096-b141-e7151aca0aa4",
   "metadata": {},
   "outputs": [
    {
     "data": {
      "text/plain": [
       "[1, 2, 3, 4, 5, 98, 21, 10]"
      ]
     },
     "execution_count": 30,
     "metadata": {},
     "output_type": "execute_result"
    }
   ],
   "source": [
    "my_list\n"
   ]
  },
  {
   "cell_type": "code",
   "execution_count": 31,
   "id": "8af6ddee-cd28-4108-8a4b-8c131a524e21",
   "metadata": {},
   "outputs": [],
   "source": [
    "new_list2 = my_list.sort()"
   ]
  },
  {
   "cell_type": "code",
   "execution_count": 32,
   "id": "3c9400a8-8940-4170-a7d5-5f4b20116c70",
   "metadata": {},
   "outputs": [
    {
     "data": {
      "text/plain": [
       "[1, 2, 3, 4, 5, 10, 21, 98]"
      ]
     },
     "execution_count": 32,
     "metadata": {},
     "output_type": "execute_result"
    }
   ],
   "source": [
    "my_list"
   ]
  },
  {
   "cell_type": "code",
   "execution_count": 35,
   "id": "b34c1b20-5747-4b66-8fb6-bb2c6396e73b",
   "metadata": {},
   "outputs": [
    {
     "data": {
      "text/plain": [
       "NoneType"
      ]
     },
     "execution_count": 35,
     "metadata": {},
     "output_type": "execute_result"
    }
   ],
   "source": [
    "type(new_list2)"
   ]
  },
  {
   "cell_type": "code",
   "execution_count": 36,
   "id": "068560ec-4f9e-40e1-b987-0f2f669b1a07",
   "metadata": {},
   "outputs": [],
   "source": [
    "my_tuple = tuple(my_list)"
   ]
  },
  {
   "cell_type": "code",
   "execution_count": 37,
   "id": "9bd4a61e-f8a4-463e-a90d-b19da3100386",
   "metadata": {},
   "outputs": [
    {
     "data": {
      "text/plain": [
       "(1, 2, 3, 4, 5, 10, 21, 98)"
      ]
     },
     "execution_count": 37,
     "metadata": {},
     "output_type": "execute_result"
    }
   ],
   "source": [
    "my_tuple"
   ]
  },
  {
   "cell_type": "code",
   "execution_count": 38,
   "id": "3664fca6-f8df-420c-95d8-9db4880e35e2",
   "metadata": {},
   "outputs": [
    {
     "data": {
      "text/plain": [
       "8"
      ]
     },
     "execution_count": 38,
     "metadata": {},
     "output_type": "execute_result"
    }
   ],
   "source": [
    "len(my_list)"
   ]
  },
  {
   "cell_type": "code",
   "execution_count": 46,
   "id": "fbc3b176-16b4-40dc-91ea-b94719407516",
   "metadata": {},
   "outputs": [
    {
     "name": "stdout",
     "output_type": "stream",
     "text": [
      "1\n",
      "4\n",
      "9\n",
      "16\n",
      "25\n",
      "100\n",
      "441\n",
      "9604\n"
     ]
    }
   ],
   "source": [
    "for item in my_list:\n",
    "    print(item**2)\n",
    "  "
   ]
  },
  {
   "cell_type": "code",
   "execution_count": 43,
   "id": "6650a419-046e-4428-956f-9cae8fc2e1a6",
   "metadata": {},
   "outputs": [
    {
     "name": "stdout",
     "output_type": "stream",
     "text": [
      "1\n",
      "2\n",
      "3\n",
      "4\n",
      "5\n",
      "6\n",
      "7\n",
      "8\n",
      "9\n",
      "10\n"
     ]
    }
   ],
   "source": [
    "for i in [1,2,3,4,5,6,7,8,9,10]:\n",
    "    print(i)"
   ]
  },
  {
   "cell_type": "code",
   "execution_count": 45,
   "id": "bc95b498-81f1-446e-815e-75c1c3629c09",
   "metadata": {},
   "outputs": [
    {
     "name": "stdout",
     "output_type": "stream",
     "text": [
      "0\n",
      "1\n",
      "2\n",
      "3\n",
      "4\n",
      "5\n",
      "6\n",
      "7\n",
      "8\n",
      "9\n"
     ]
    }
   ],
   "source": [
    "for i in range(10):\n",
    "    print(i)"
   ]
  },
  {
   "cell_type": "code",
   "execution_count": 48,
   "id": "3d626ec2-6351-4b66-b53b-2280cb07c5d6",
   "metadata": {},
   "outputs": [
    {
     "name": "stdout",
     "output_type": "stream",
     "text": [
      "Kelly, can you handle this?\n",
      "Michelle, can you handle this?\n",
      "Beyonce, can you handle this?\n",
      "I don't think they can handle this!!\n"
     ]
    }
   ],
   "source": [
    "# recreate destiny's child song\n",
    "\n",
    "singer_names = ['Kelly', 'Michelle','Beyonce']\n",
    "for name in singer_names:\n",
    "    print(f\"{name}, can you handle this?\")\n",
    "    \n",
    "print(\"I don't think they can handle this!!\")\n",
    "    "
   ]
  },
  {
   "cell_type": "code",
   "execution_count": 49,
   "id": "702a438c-f2fd-4351-b6c7-7c6c66bb1b71",
   "metadata": {},
   "outputs": [],
   "source": [
    "eggs = 'egg ' *12"
   ]
  },
  {
   "cell_type": "code",
   "execution_count": 50,
   "id": "014c5402-e5af-492d-bf16-39b80eef61e6",
   "metadata": {},
   "outputs": [
    {
     "data": {
      "text/plain": [
       "'egg egg egg egg egg egg egg egg egg egg egg egg '"
      ]
     },
     "execution_count": 50,
     "metadata": {},
     "output_type": "execute_result"
    }
   ],
   "source": [
    "eggs"
   ]
  },
  {
   "cell_type": "code",
   "execution_count": 51,
   "id": "600f9e43-547b-47c2-9ffa-c72952f5c0ca",
   "metadata": {},
   "outputs": [],
   "source": [
    "egg_tray = eggs.split()"
   ]
  },
  {
   "cell_type": "code",
   "execution_count": 52,
   "id": "27d81837-36f9-4b1f-9506-bd4184893e78",
   "metadata": {},
   "outputs": [
    {
     "data": {
      "text/plain": [
       "['egg',\n",
       " 'egg',\n",
       " 'egg',\n",
       " 'egg',\n",
       " 'egg',\n",
       " 'egg',\n",
       " 'egg',\n",
       " 'egg',\n",
       " 'egg',\n",
       " 'egg',\n",
       " 'egg',\n",
       " 'egg']"
      ]
     },
     "execution_count": 52,
     "metadata": {},
     "output_type": "execute_result"
    }
   ],
   "source": [
    "egg_tray"
   ]
  },
  {
   "cell_type": "code",
   "execution_count": 53,
   "id": "7feee4ca-b638-46f3-95b2-49ceb1e39372",
   "metadata": {},
   "outputs": [
    {
     "name": "stdout",
     "output_type": "stream",
     "text": [
      "0 egg\n",
      "1 egg\n",
      "2 egg\n",
      "3 egg\n",
      "4 egg\n",
      "5 egg\n",
      "6 egg\n",
      "7 egg\n",
      "8 egg\n",
      "9 egg\n",
      "10 egg\n",
      "11 egg\n"
     ]
    }
   ],
   "source": [
    "for i,picked_egg in enumerate(egg_tray):\n",
    "    print(i, picked_egg)"
   ]
  },
  {
   "cell_type": "code",
   "execution_count": 56,
   "id": "188d3e9c-d511-4f9f-8bd9-03aecd00f716",
   "metadata": {},
   "outputs": [],
   "source": [
    "for i,picked_egg in enumerate(egg_tray):\n",
    "    # print(i, picked_egg)\n",
    "    egg_tray[i] = f'{picked_egg}_{i+1}'"
   ]
  },
  {
   "cell_type": "code",
   "execution_count": 57,
   "id": "0ffe0679-833d-40ed-b893-27770373df1c",
   "metadata": {},
   "outputs": [
    {
     "data": {
      "text/plain": [
       "['egg_0_1',\n",
       " 'egg_1_2',\n",
       " 'egg_2_3',\n",
       " 'egg_3_4',\n",
       " 'egg_4_5',\n",
       " 'egg_5_6',\n",
       " 'egg_6_7',\n",
       " 'egg_7_8',\n",
       " 'egg_8_9',\n",
       " 'egg_9_10',\n",
       " 'egg_10_11',\n",
       " 'egg_11_12']"
      ]
     },
     "execution_count": 57,
     "metadata": {},
     "output_type": "execute_result"
    }
   ],
   "source": [
    "egg_tray"
   ]
  },
  {
   "cell_type": "code",
   "execution_count": 60,
   "id": "a2da1638-bb9b-4fc7-8536-2dbbed5dd387",
   "metadata": {},
   "outputs": [
    {
     "name": "stdout",
     "output_type": "stream",
     "text": [
      "Hello\n",
      "Hello\n",
      "Hello\n",
      "Hello\n",
      "Hello\n",
      "Hello\n",
      "Hello\n",
      "Hello\n",
      "Hello\n",
      "Hello\n"
     ]
    }
   ],
   "source": [
    "for _ in range(10):\n",
    "    print(\"Hello\")"
   ]
  },
  {
   "cell_type": "code",
   "execution_count": 61,
   "id": "697ad20f-bff5-463a-a147-242c61135335",
   "metadata": {},
   "outputs": [
    {
     "name": "stdout",
     "output_type": "stream",
     "text": [
      "before\n",
      "after\n"
     ]
    }
   ],
   "source": [
    "print(\"before\")\n",
    "for _ in range(10):\n",
    "    break\n",
    "    print(\"Hello\")\n",
    "\n",
    "print(\"after\")"
   ]
  },
  {
   "cell_type": "code",
   "execution_count": 62,
   "id": "f7edfdc6-106a-4e0e-824a-1f6bd6f56135",
   "metadata": {},
   "outputs": [
    {
     "name": "stdout",
     "output_type": "stream",
     "text": [
      "before\n",
      "Hello\n",
      "after\n"
     ]
    }
   ],
   "source": [
    "print(\"before\")\n",
    "for _ in range(10):\n",
    "    print(\"Hello\")\n",
    "    break\n",
    "\n",
    "print(\"after\")"
   ]
  },
  {
   "cell_type": "code",
   "execution_count": 66,
   "id": "b7ab4d46-f305-4e69-b337-662a7d5f262b",
   "metadata": {},
   "outputs": [
    {
     "name": "stdout",
     "output_type": "stream",
     "text": [
      "55\n"
     ]
    }
   ],
   "source": [
    "# related lists paralle execution\n",
    "\n",
    "list1 = [1,2,3,4,5]\n",
    "list2=[6,7,8,9,10]\n",
    "\n",
    "# counter\n",
    "i = 0\n",
    "\n",
    "# accumulator\n",
    "sum = 0\n",
    "\n",
    "\n",
    "for num in list1:\n",
    "    sum += num + list2[i]\n",
    "    i += 1\n",
    "print(sum)"
   ]
  },
  {
   "cell_type": "code",
   "execution_count": 67,
   "id": "da448a51-9f87-4b86-8b07-fc0a09defb90",
   "metadata": {},
   "outputs": [
    {
     "name": "stdout",
     "output_type": "stream",
     "text": [
      "[1, 2, 3]\n",
      "[2, 3, 4]\n",
      "[5, 6, 7]\n"
     ]
    }
   ],
   "source": [
    "my_matrix = [[1,2,3],[2,3,4],[5,6,7]]\n",
    "for item in my_matrix:\n",
    "    print(item)"
   ]
  },
  {
   "cell_type": "code",
   "execution_count": 72,
   "id": "6a416c11-b049-4acf-9872-5676a78b52a4",
   "metadata": {},
   "outputs": [
    {
     "name": "stdout",
     "output_type": "stream",
     "text": [
      "33\n"
     ]
    }
   ],
   "source": [
    "sum = 0\n",
    "for item in my_matrix:\n",
    "    for num in item:\n",
    "        sum += num\n",
    "print (sum)"
   ]
  },
  {
   "cell_type": "code",
   "execution_count": 73,
   "id": "a8b5f099-1316-45d4-a2b3-9a092794185c",
   "metadata": {},
   "outputs": [
    {
     "data": {
      "text/plain": [
       "3"
      ]
     },
     "execution_count": 73,
     "metadata": {},
     "output_type": "execute_result"
    }
   ],
   "source": [
    "len(my_matrix)"
   ]
  },
  {
   "cell_type": "code",
   "execution_count": 74,
   "id": "1d554ac3-7202-45dd-bf86-c819d85b19d1",
   "metadata": {},
   "outputs": [
    {
     "data": {
      "text/plain": [
       "[1, 2, 3]"
      ]
     },
     "execution_count": 74,
     "metadata": {},
     "output_type": "execute_result"
    }
   ],
   "source": [
    "my_matrix[0]"
   ]
  },
  {
   "cell_type": "code",
   "execution_count": 75,
   "id": "126ebf82-d72b-4396-b600-7dfaa8412428",
   "metadata": {},
   "outputs": [
    {
     "data": {
      "text/plain": [
       "3"
      ]
     },
     "execution_count": 75,
     "metadata": {},
     "output_type": "execute_result"
    }
   ],
   "source": [
    "len(my_matrix[0])"
   ]
  },
  {
   "cell_type": "code",
   "execution_count": 77,
   "id": "831ffe80-5e61-472a-9124-435104f2d237",
   "metadata": {},
   "outputs": [
    {
     "name": "stdout",
     "output_type": "stream",
     "text": [
      "0 0\n",
      "0 1\n",
      "0 2\n",
      "1 0\n",
      "1 1\n",
      "1 2\n",
      "2 0\n",
      "2 1\n",
      "2 2\n"
     ]
    }
   ],
   "source": [
    "for i in range(len(my_matrix)):\n",
    "    for j in range (len(my_matrix[0])):\n",
    "        print(i,j)\n",
    "                    \n",
    "               "
   ]
  },
  {
   "cell_type": "code",
   "execution_count": 79,
   "id": "57e49ec6-ffda-490d-a5a3-8e478c01cb97",
   "metadata": {},
   "outputs": [
    {
     "name": "stdout",
     "output_type": "stream",
     "text": [
      "1\n",
      "2\n",
      "3\n",
      "2\n",
      "3\n",
      "4\n",
      "5\n",
      "6\n",
      "7\n"
     ]
    }
   ],
   "source": [
    "for i in range(len(my_matrix)):\n",
    "    for j in range (len(my_matrix[0])):\n",
    "        print(my_matrix[i][j])"
   ]
  },
  {
   "cell_type": "code",
   "execution_count": 80,
   "id": "3a63c334-2942-4394-9eb4-f7a52ed10dda",
   "metadata": {},
   "outputs": [
    {
     "name": "stdout",
     "output_type": "stream",
     "text": [
      "(1, 6)\n",
      "(2, 7)\n",
      "(3, 8)\n",
      "(4, 9)\n",
      "(5, 10)\n"
     ]
    }
   ],
   "source": [
    "list1 = [1,2,3,4,5]\n",
    "list2=[6,7,8,9,10]\n",
    "\n",
    "for item in zip(list1,list2):\n",
    "    print(item)"
   ]
  },
  {
   "cell_type": "code",
   "execution_count": 81,
   "id": "4e9cb44b-6502-45ba-ba92-8a0dd2845dfc",
   "metadata": {},
   "outputs": [
    {
     "name": "stdout",
     "output_type": "stream",
     "text": [
      "0 (1, 6)\n",
      "1 (2, 7)\n",
      "2 (3, 8)\n",
      "3 (4, 9)\n",
      "4 (5, 10)\n"
     ]
    }
   ],
   "source": [
    "for i,tup in enumerate(zip(list1,list2)):\n",
    "    print(i,tup)"
   ]
  },
  {
   "cell_type": "code",
   "execution_count": 82,
   "id": "08d5e4b1-0d20-4c02-bc8d-ba56dfad8388",
   "metadata": {},
   "outputs": [
    {
     "name": "stdout",
     "output_type": "stream",
     "text": [
      "0 1 6\n",
      "1 2 7\n",
      "2 3 8\n",
      "3 4 9\n",
      "4 5 10\n"
     ]
    }
   ],
   "source": [
    "for i,tup in enumerate(zip(list1,list2)):\n",
    "    print(i,tup[0],tup[1])"
   ]
  },
  {
   "cell_type": "code",
   "execution_count": null,
   "id": "eaabc62d-28bf-4bb9-aae0-632f49e3a31b",
   "metadata": {},
   "outputs": [],
   "source": []
  }
 ],
 "metadata": {
  "kernelspec": {
   "display_name": "info2000",
   "language": "python",
   "name": "info2000"
  },
  "language_info": {
   "codemirror_mode": {
    "name": "ipython",
    "version": 3
   },
   "file_extension": ".py",
   "mimetype": "text/x-python",
   "name": "python",
   "nbconvert_exporter": "python",
   "pygments_lexer": "ipython3",
   "version": "3.9.16"
  }
 },
 "nbformat": 4,
 "nbformat_minor": 5
}
