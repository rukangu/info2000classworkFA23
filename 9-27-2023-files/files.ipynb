{
 "cells": [
  {
   "cell_type": "code",
   "execution_count": 8,
   "id": "3daaa0a8-d9ce-48c8-9f01-bc0611402935",
   "metadata": {},
   "outputs": [],
   "source": [
    "# opening a file\n",
    "\n",
    "my_file = open('file1.txt','w')"
   ]
  },
  {
   "cell_type": "code",
   "execution_count": 2,
   "id": "aba7a27a-692c-4f4f-abe2-2ccd8d5fe374",
   "metadata": {},
   "outputs": [
    {
     "data": {
      "text/plain": [
       "_io.TextIOWrapper"
      ]
     },
     "execution_count": 2,
     "metadata": {},
     "output_type": "execute_result"
    }
   ],
   "source": [
    "type(my_file)"
   ]
  },
  {
   "cell_type": "code",
   "execution_count": 16,
   "id": "9090af4d-5af7-44c9-9623-d76ac8f9691a",
   "metadata": {},
   "outputs": [],
   "source": [
    "my_file = open('file1.txt','a')\n",
    "my_file.write(\"A sentence\")\n",
    "my_file.write(\"\\n\")\n",
    "my_file.close()"
   ]
  },
  {
   "cell_type": "code",
   "execution_count": 18,
   "id": "26fff02a-dd1d-41cf-be0b-eb5547eada36",
   "metadata": {},
   "outputs": [],
   "source": [
    "mode = 'a'\n",
    "with open('file2.txt',mode) as F:\n",
    "    # F is the file variable thath allows us to acces it in the body \n",
    "    # anything in this body will have access to the file\n",
    "    for i in range(10):\n",
    "        F.write(str(i))\n",
    "        F.write(\"\\n\")\n",
    "        # closed automativally for you"
   ]
  },
  {
   "cell_type": "code",
   "execution_count": 20,
   "id": "ddf24a7e-adc6-43c7-a1ee-5aa65bfcbce9",
   "metadata": {},
   "outputs": [
    {
     "name": "stdout",
     "output_type": "stream",
     "text": [
      "0\n",
      "1\n",
      "2\n",
      "3\n",
      "4\n",
      "5\n",
      "6\n",
      "7\n",
      "8\n",
      "9\n",
      "\n"
     ]
    }
   ],
   "source": [
    "mode = 'r'\n",
    "with open('file2.txt',mode) as myFile:\n",
    "    contents = myFile.read()\n",
    "    print(contents)"
   ]
  },
  {
   "cell_type": "code",
   "execution_count": 21,
   "id": "eead4962-c042-4bdf-8df1-74837c1ed3be",
   "metadata": {},
   "outputs": [
    {
     "data": {
      "text/plain": [
       "'0\\n1\\n2\\n3\\n4\\n5\\n6\\n7\\n8\\n9\\n'"
      ]
     },
     "execution_count": 21,
     "metadata": {},
     "output_type": "execute_result"
    }
   ],
   "source": [
    "contents"
   ]
  },
  {
   "cell_type": "code",
   "execution_count": null,
   "id": "523757f8-9437-4b7e-8377-027962721241",
   "metadata": {},
   "outputs": [],
   "source": []
  }
 ],
 "metadata": {
  "kernelspec": {
   "display_name": "info2000",
   "language": "python",
   "name": "info2000"
  },
  "language_info": {
   "codemirror_mode": {
    "name": "ipython",
    "version": 3
   },
   "file_extension": ".py",
   "mimetype": "text/x-python",
   "name": "python",
   "nbconvert_exporter": "python",
   "pygments_lexer": "ipython3",
   "version": "3.9.16"
  }
 },
 "nbformat": 4,
 "nbformat_minor": 5
}
