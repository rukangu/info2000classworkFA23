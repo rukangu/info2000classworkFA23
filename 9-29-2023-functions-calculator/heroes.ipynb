{
 "cells": [
  {
   "cell_type": "code",
   "execution_count": 16,
   "metadata": {},
   "outputs": [],
   "source": [
    "# create a superhero registry\n",
    "# store their abilities in file\n",
    "import os\n",
    "\n",
    "def my_init(filename = 'names.txt'):\n",
    "    ''' this checks to see if the superhero database exists\n",
    "    if it exists we load from file\n",
    "    if it doesn't we start afresh'''\n",
    "    if os.path.exists(filename):\n",
    "        # we have the registry\n",
    "        # only need to add more heroes\n",
    "        # our not efficient structure : two files\n",
    "        # file 1: names.txt: hero / line\n",
    "        # file 2: abilities.txt: ability/line\n",
    "        \n",
    "        # get names list from names file\n",
    "        with open('names.txt','r') as nameFile, open('abilities.txt','r') as abilityFile:\n",
    "            names = nameFile.readlines()\n",
    "            abilities = abilityFile.readlines()\n",
    "\n",
    "            # let's remove the blank lines and the \\n at the end\n",
    "            names = [name.strip('\\n') for name in names if name!= '\\n']\n",
    "            #abilities = [ab.strip('\\n') for  ab in abilities if ab !='\\n']\n",
    "            abilities = [ability.strip('\\n') for  ability in abilities if ability !='\\n']\n",
    "    else:\n",
    "        # no record on file\n",
    "        names = []\n",
    "        abilities = []\n",
    "    return names,abilities"
   ]
  },
  {
   "cell_type": "code",
   "execution_count": 17,
   "metadata": {},
   "outputs": [],
   "source": [
    "def get_hero():\n",
    "    names, abilities = my_init('names.txt')\n",
    "    hero = input(\"Enter hero/heroine name\").casefold()\n",
    "    \n",
    "    # hero in database?\n",
    "    if hero in names:\n",
    "        # we need to find the ability in the abilities list\n",
    "        ability = abilities[names.index(hero)]\n",
    "        print(f\"{hero.title()}'s ability is {ability}\")\n",
    "    else:\n",
    "        ab = input(f\"Enter {hero}'s ability: \")\n",
    "        names.append(hero)\n",
    "        abilities.append(ab)\n",
    "        print(f\"{hero} added to database\")\n",
    "        with open('names.txt','w') as nameFile, open('abilities.txt','w') as abilityFile:\n",
    "            # use list comprehension to create a new list\n",
    "\n",
    "            names = [name+'\\n' for name in names]\n",
    "            abilities = [ability+'\\n' for ability in abilities]\n",
    "            nameFile.writelines(names)\n",
    "            abilityFile.writelines(abilities)"
   ]
  },
  {
   "cell_type": "code",
   "execution_count": 19,
   "metadata": {},
   "outputs": [
    {
     "name": "stdout",
     "output_type": "stream",
     "text": [
      "flash added to database\n",
      "tuen's green added to database\n",
      "Flash's ability is Quick\n",
      "Tuen'S Green's ability is Hulk\n",
      " added to database\n",
      "q added to database\n"
     ]
    }
   ],
   "source": [
    "while True:\n",
    "    user_in = input(\"Y or anything to proceed. q|Q to quit\").casefold()\n",
    "    if user_in in ['q','quit']:\n",
    "        break\n",
    "    else:\n",
    "        get_hero()"
   ]
  },
  {
   "cell_type": "code",
   "execution_count": null,
   "metadata": {},
   "outputs": [],
   "source": []
  }
 ],
 "metadata": {
  "kernelspec": {
   "display_name": "info2000",
   "language": "python",
   "name": "python3"
  },
  "language_info": {
   "codemirror_mode": {
    "name": "ipython",
    "version": 3
   },
   "file_extension": ".py",
   "mimetype": "text/x-python",
   "name": "python",
   "nbconvert_exporter": "python",
   "pygments_lexer": "ipython3",
   "version": "3.9.16"
  }
 },
 "nbformat": 4,
 "nbformat_minor": 2
}
