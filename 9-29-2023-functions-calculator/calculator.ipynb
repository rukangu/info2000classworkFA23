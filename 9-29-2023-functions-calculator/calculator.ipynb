{
 "cells": [
  {
   "cell_type": "code",
   "execution_count": null,
   "id": "9ed467f8-20a5-419d-b6cb-9a226931a053",
   "metadata": {},
   "outputs": [],
   "source": [
    "# our very own calcultor\n",
    "\n",
    "# addition\n",
    "# subtraction\n",
    "# multiplication\n",
    "# division\n",
    "\n",
    "# user to decide the operation they want\n",
    "\n",
    "# do some error processing "
   ]
  },
  {
   "cell_type": "code",
   "execution_count": 31,
   "id": "6ade40b1-5e5c-4296-bb56-6df77cffcb8e",
   "metadata": {},
   "outputs": [],
   "source": [
    "quit_options = ['q', 'no','n']\n",
    "\n",
    "# function to get valid user input\n",
    "\n",
    "def get_valid_num(to_print ='enter number' , exclude =[0]):\n",
    "    while True:        \n",
    "        user_in = input(to_print)\n",
    "        # we need a way to confirm that the number is an int or float\n",
    "        try:\n",
    "            to_return = float(user_in)\n",
    "            # break \n",
    "        except:\n",
    "            print(\"Enter an int or a float!\")\n",
    "        else:\n",
    "            # further comparisons\n",
    "            if to_return in exclude:\n",
    "                print(\"Can't input a zero for division denominator!\")\n",
    "            else:\n",
    "                break\n",
    "    #outside the while true\n",
    "    return to_return"
   ]
  },
  {
   "cell_type": "code",
   "execution_count": 32,
   "id": "5f2c4af3-c57d-4a25-860d-0b7b7e3e9fbd",
   "metadata": {},
   "outputs": [
    {
     "name": "stdin",
     "output_type": "stream",
     "text": [
      "printintin of snffasnknfklaj 1\n"
     ]
    },
    {
     "data": {
      "text/plain": [
       "1.0"
      ]
     },
     "execution_count": 32,
     "metadata": {},
     "output_type": "execute_result"
    }
   ],
   "source": [
    "get_valid_num()"
   ]
  },
  {
   "cell_type": "code",
   "execution_count": 23,
   "id": "53ef1b74-1dfa-4925-a3dc-4580a4f374ef",
   "metadata": {},
   "outputs": [],
   "source": [
    "# functions for the operations\n",
    "def addition():\n",
    "    return get_valid_num('enter number:') + get_valid_num('enter second number')\n",
    "def subtraction():\n",
    "    return get_valid_num('enter number:') - get_valid_num('Enter number')\n",
    "def multiply():\n",
    "    return get_valid_num('enter number:') * get_valid_num('Enter number')\n",
    "def division():\n",
    "    return get_valid_num(to_print = 'enter number:', exclude = []) / get_valid_num('Enter number', [0])"
   ]
  },
  {
   "cell_type": "code",
   "execution_count": null,
   "id": "ffa67b06-ff23-4791-bbf1-e3a271e97f04",
   "metadata": {},
   "outputs": [],
   "source": []
  },
  {
   "cell_type": "code",
   "execution_count": 24,
   "id": "347f866e-2390-48a0-806c-1af489d9e4b6",
   "metadata": {},
   "outputs": [],
   "source": [
    "def calculator():\n",
    "    while True:\n",
    "        print(\"1:addition\",\"2:subtraction\",\"3:multiplication\",'4:division','q:quit', sep = '\\n')\n",
    "        operation = input()\n",
    "        if operation.casefold() in quit_options:\n",
    "            break\n",
    "        elif operation.casefold() == '1':\n",
    "            # result = addition()\n",
    "            # print (result)\n",
    "            print(addition())\n",
    "        elif operation.casefold() == '2':\n",
    "            print(subtraction())\n",
    "        elif operation.casefold() == '3':\n",
    "            print(multiply())\n",
    "        elif operation.casefold() == '4':\n",
    "            print(division())\n",
    "        else:\n",
    "            print(\"Enter 1-4, or q to quit\")\n",
    "    print(\"bye\")"
   ]
  },
  {
   "cell_type": "code",
   "execution_count": 25,
   "id": "e4f2c673-5c1f-4261-8fd5-2d57d7497739",
   "metadata": {},
   "outputs": [
    {
     "name": "stdout",
     "output_type": "stream",
     "text": [
      "1:addition\n",
      "2:subtraction\n",
      "3:multiplication\n",
      "4:division\n",
      "q:quit\n"
     ]
    },
    {
     "name": "stdin",
     "output_type": "stream",
     "text": [
      " 4\n",
      "enter number: 0\n",
      "Enter number 3\n"
     ]
    },
    {
     "name": "stdout",
     "output_type": "stream",
     "text": [
      "0.0\n",
      "1:addition\n",
      "2:subtraction\n",
      "3:multiplication\n",
      "4:division\n",
      "q:quit\n"
     ]
    },
    {
     "name": "stdin",
     "output_type": "stream",
     "text": [
      " q\n"
     ]
    },
    {
     "name": "stdout",
     "output_type": "stream",
     "text": [
      "bye\n"
     ]
    }
   ],
   "source": []
  },
  {
   "cell_type": "code",
   "execution_count": 1,
   "id": "2d17e8bc-0c7a-4e6a-9de9-19f4a84aae38",
   "metadata": {},
   "outputs": [
    {
     "name": "stdout",
     "output_type": "stream",
     "text": [
      "1:addition \n",
      "2: division\n"
     ]
    }
   ],
   "source": [
    "print(\"1:addition \\n2: division\") "
   ]
  },
  {
   "cell_type": "code",
   "execution_count": 4,
   "id": "97550ed0-be30-4bba-9e01-633272ae6b2a",
   "metadata": {},
   "outputs": [
    {
     "name": "stdout",
     "output_type": "stream",
     "text": [
      "1:addition \n",
      "2: division\n"
     ]
    }
   ],
   "source": [
    "print(\"1:addition \",\"2: division\",sep = '\\n') "
   ]
  },
  {
   "cell_type": "code",
   "execution_count": 7,
   "id": "7b7fc51b-e4bb-4f92-8d9a-6db89484a16c",
   "metadata": {},
   "outputs": [
    {
     "ename": "ValueError",
     "evalue": "could not convert string to float: 'x'",
     "output_type": "error",
     "traceback": [
      "\u001b[1;31m----------------------------------------\u001b[0m",
      "\u001b[1;31mValueError\u001b[0mTraceback (most recent call last)",
      "Cell \u001b[1;32mIn[7], line 1\u001b[0m\n\u001b[1;32m----> 1\u001b[0m \u001b[38;5;28;43mfloat\u001b[39;49m\u001b[43m(\u001b[49m\u001b[38;5;124;43m'\u001b[39;49m\u001b[38;5;124;43mx\u001b[39;49m\u001b[38;5;124;43m'\u001b[39;49m\u001b[43m)\u001b[49m\n",
      "\u001b[1;31mValueError\u001b[0m: could not convert string to float: 'x'"
     ]
    }
   ],
   "source": [
    "float('x')"
   ]
  },
  {
   "cell_type": "markdown",
   "id": "171b9af4-b36c-4143-b0cd-05ff50820d3e",
   "metadata": {},
   "source": [
    "# Files and Superheroes\n"
   ]
  },
  {
   "cell_type": "code",
   "execution_count": 43,
   "id": "d94879f3-a7fb-4c91-9fa9-f3b00ee2fd16",
   "metadata": {},
   "outputs": [],
   "source": [
    "# create a superhero registry\n",
    "# store their abilities in file\n",
    "import os\n",
    "\n",
    "def my_init(filename = 'names.txt'):\n",
    "    ''' this checks to see if the superhero database exists\n",
    "    if it exists we load from file\n",
    "    if it doesn't we start afresh'''\n",
    "    if os.path.exists(filename):\n",
    "        # we have the registry\n",
    "        # only need to add more heroes\n",
    "        # our not efficient structure : two files\n",
    "        # file 1: names.txt: hero / line\n",
    "        # file 2: abilities.txt: ability/line\n",
    "        \n",
    "        # get names list from names file\n",
    "        with open('names.txt','r') as nameFile, open('abilities.txt','r') as abilityFile:\n",
    "            names = nameFile.readlines()\n",
    "            abilities = abilityFile.readlines()\n",
    "    else:\n",
    "        # no record on file\n",
    "        names = []\n",
    "        abilities = []\n",
    "    return names,abilities"
   ]
  },
  {
   "cell_type": "code",
   "execution_count": 44,
   "id": "5b1f6c69-b430-4c22-9bce-c242632890fd",
   "metadata": {},
   "outputs": [],
   "source": [
    "def get_hero():\n",
    "    names, abilities = my_init('names.txt')\n",
    "    hero = input(\"Enter hero/heroine name\").casefold()\n",
    "    \n",
    "    # hero in database?\n",
    "    if hero in names:\n",
    "        # we need to find the ability in the abilities list\n",
    "        ability = abilities[names.index(hero)]\n",
    "        print(f\"{hero.title()}'s ability is {ability}\")\n",
    "    else:\n",
    "        ab = input(f\"Enter {hero}'s ability: \")\n",
    "        names.append(hero)\n",
    "        abilities.append(ab)\n",
    "        print(f\"{hero} added to database\")\n",
    "        with open('names.txt','w') as nameFile, open('abilities.txt','w') as abilityFile:\n",
    "            nameFile.readlines(names)\n",
    "            abilityFile.readlines(abilities)\n",
    "    "
   ]
  },
  {
   "cell_type": "code",
   "execution_count": 45,
   "id": "b4750921-cab8-4f9a-8ac3-f4761afb132a",
   "metadata": {},
   "outputs": [
    {
     "name": "stdin",
     "output_type": "stream",
     "text": [
      "q|Q to quit sad\n",
      "Enter hero/heroine name Flash\n",
      "Enter flash's ability:  Running fast\n"
     ]
    },
    {
     "name": "stdout",
     "output_type": "stream",
     "text": [
      "flash added to database\n"
     ]
    },
    {
     "ename": "TypeError",
     "evalue": "argument should be integer or None, not 'list'",
     "output_type": "error",
     "traceback": [
      "\u001b[1;31m-------------------------------------------\u001b[0m",
      "\u001b[1;31mTypeError\u001b[0m Traceback (most recent call last)",
      "Cell \u001b[1;32mIn[45], line 6\u001b[0m\n\u001b[0;32m      4\u001b[0m     \u001b[38;5;28;01mbreak\u001b[39;00m\n\u001b[0;32m      5\u001b[0m \u001b[38;5;28;01melse\u001b[39;00m:\n\u001b[1;32m----> 6\u001b[0m     \u001b[43mget_hero\u001b[49m\u001b[43m(\u001b[49m\u001b[43m)\u001b[49m\n",
      "Cell \u001b[1;32mIn[44], line 16\u001b[0m, in \u001b[0;36mget_hero\u001b[1;34m()\u001b[0m\n\u001b[0;32m     14\u001b[0m \u001b[38;5;28mprint\u001b[39m(\u001b[38;5;124mf\u001b[39m\u001b[38;5;124m\"\u001b[39m\u001b[38;5;132;01m{\u001b[39;00mhero\u001b[38;5;132;01m}\u001b[39;00m\u001b[38;5;124m added to database\u001b[39m\u001b[38;5;124m\"\u001b[39m)\n\u001b[0;32m     15\u001b[0m \u001b[38;5;28;01mwith\u001b[39;00m \u001b[38;5;28mopen\u001b[39m(\u001b[38;5;124m'\u001b[39m\u001b[38;5;124mnames.txt\u001b[39m\u001b[38;5;124m'\u001b[39m,\u001b[38;5;124m'\u001b[39m\u001b[38;5;124mw\u001b[39m\u001b[38;5;124m'\u001b[39m) \u001b[38;5;28;01mas\u001b[39;00m nameFile, \u001b[38;5;28mopen\u001b[39m(\u001b[38;5;124m'\u001b[39m\u001b[38;5;124mabilities.txt\u001b[39m\u001b[38;5;124m'\u001b[39m,\u001b[38;5;124m'\u001b[39m\u001b[38;5;124mw\u001b[39m\u001b[38;5;124m'\u001b[39m) \u001b[38;5;28;01mas\u001b[39;00m abilityFile:\n\u001b[1;32m---> 16\u001b[0m     \u001b[43mnameFile\u001b[49m\u001b[38;5;241;43m.\u001b[39;49m\u001b[43mreadlines\u001b[49m\u001b[43m(\u001b[49m\u001b[43mnames\u001b[49m\u001b[43m)\u001b[49m\n\u001b[0;32m     17\u001b[0m     abilityFile\u001b[38;5;241m.\u001b[39mreadlines(abilities)\n",
      "\u001b[1;31mTypeError\u001b[0m: argument should be integer or None, not 'list'"
     ]
    }
   ],
   "source": [
    "while True:\n",
    "    user_in = input(\"q|Q to quit\").casefold()\n",
    "    if user_in in ['q','quit']:\n",
    "        break\n",
    "    else:\n",
    "        get_hero()\n",
    "        "
   ]
  },
  {
   "cell_type": "code",
   "execution_count": null,
   "id": "374a6ef7-c488-495a-b0ff-a210d1b3c7d6",
   "metadata": {},
   "outputs": [],
   "source": []
  }
 ],
 "metadata": {
  "kernelspec": {
   "display_name": "info2000",
   "language": "python",
   "name": "info2000"
  },
  "language_info": {
   "codemirror_mode": {
    "name": "ipython",
    "version": 3
   },
   "file_extension": ".py",
   "mimetype": "text/x-python",
   "name": "python",
   "nbconvert_exporter": "python",
   "pygments_lexer": "ipython3",
   "version": "3.9.16"
  }
 },
 "nbformat": 4,
 "nbformat_minor": 5
}
