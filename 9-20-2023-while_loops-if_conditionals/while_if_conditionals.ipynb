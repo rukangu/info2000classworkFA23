{
 "cells": [
  {
   "cell_type": "code",
   "execution_count": 4,
   "id": "f1e54841-00ec-4203-9ca1-0f6616f0cc6e",
   "metadata": {},
   "outputs": [
    {
     "name": "stdout",
     "output_type": "stream",
     "text": [
      "You get 12 mango !\n",
      "You get 10 strawberry !\n",
      "You get 4 orange !\n",
      "You get 6 apple !\n",
      "You get 10 kiwi !\n"
     ]
    }
   ],
   "source": [
    "# c-type vs python iteration\n",
    "\n",
    "\n",
    "# create the lists\n",
    "fruits = ['mango','strawberry','orange','apple','kiwi']\n",
    "numbers = [12,10,4,6,10]\n",
    "\n",
    "# ctpye\n",
    "\n",
    "i = 0 #intitialize the index\n",
    "\n",
    "for index_var in range(len(fruits)):\n",
    "    fruit = fruits[i]\n",
    "    number = numbers[i]\n",
    "    print(f\"You get {number} {fruit} !\")\n",
    "    i +=1\n",
    "    \n"
   ]
  },
  {
   "cell_type": "code",
   "execution_count": 2,
   "id": "b3c4a873-2d03-4059-9e8d-ca8afa881c84",
   "metadata": {},
   "outputs": [
    {
     "data": {
      "text/plain": [
       "5"
      ]
     },
     "execution_count": 2,
     "metadata": {},
     "output_type": "execute_result"
    }
   ],
   "source": [
    "len(fruits)"
   ]
  },
  {
   "cell_type": "code",
   "execution_count": 5,
   "id": "8dcfbcfb-4286-4954-a072-4aaea16135d4",
   "metadata": {},
   "outputs": [
    {
     "name": "stdout",
     "output_type": "stream",
     "text": [
      "You get 12 mango !\n",
      "You get 10 strawberry !\n",
      "You get 4 orange !\n",
      "You get 6 apple !\n",
      "You get 10 kiwi !\n"
     ]
    }
   ],
   "source": [
    "# pythonic way\n",
    "\n",
    "for number, fruit in zip(numbers,fruits):\n",
    "    print(f\"You get {number} {fruit} !\")"
   ]
  },
  {
   "cell_type": "code",
   "execution_count": 11,
   "id": "1cca09e6-e4f7-4354-a4eb-4b9ac6e27eb7",
   "metadata": {},
   "outputs": [
    {
     "name": "stdout",
     "output_type": "stream",
     "text": [
      "condition 1 evaluated as True\n",
      "Outside the for statemement\n"
     ]
    }
   ],
   "source": [
    "condition1 = True\n",
    "condition2 = True\n",
    "condition3 = True\n",
    "condition4 = True\n",
    "\n",
    "if  condition1: # condition1 == True\n",
    "    print (f\"condition 1 evaluated as True\")\n",
    "elif condition2:\n",
    "    print (f\"condition 2 evaluated as True\")\n",
    "elif condition3:\n",
    "    print (f\"condition 3 evaluated as True\")\n",
    "elif condition4:\n",
    "    print (f\"condition 4 evaluated as True\")\n",
    "else:\n",
    "    print (f\"None of the conditions evaluated as True\")\n",
    "    \n",
    "print(\"Outside the for statemement\")"
   ]
  },
  {
   "cell_type": "code",
   "execution_count": 12,
   "id": "1e21d104-9fdb-4cbb-8097-42184845d1a2",
   "metadata": {},
   "outputs": [
    {
     "name": "stdout",
     "output_type": "stream",
     "text": [
      "condition 1 evaluated as True\n",
      "condition 2 evaluated as True\n",
      "condition 3 evaluated as True\n",
      "condition 4 evaluated as True\n",
      "Outside the for statemement\n"
     ]
    }
   ],
   "source": [
    "# bug alert\n",
    "\n",
    "condition1 = True\n",
    "condition2 = True\n",
    "condition3 = True\n",
    "condition4 = True\n",
    "\n",
    "if  condition1: # condition1 == True\n",
    "    print (f\"condition 1 evaluated as True\")\n",
    "    \n",
    "if condition2:\n",
    "    print (f\"condition 2 evaluated as True\")\n",
    "    \n",
    "if condition3:\n",
    "    print (f\"condition 3 evaluated as True\")\n",
    "    \n",
    "if condition4:\n",
    "    print (f\"condition 4 evaluated as True\")\n",
    "else:\n",
    "    print (f\"None of the conditions evaluated as True\")\n",
    "    \n",
    "print(\"Outside the if statemement\")"
   ]
  },
  {
   "cell_type": "code",
   "execution_count": 13,
   "id": "b9527b21-476b-4dae-90ce-801038da774d",
   "metadata": {},
   "outputs": [],
   "source": [
    "my_condition = 5 > 0"
   ]
  },
  {
   "cell_type": "code",
   "execution_count": 14,
   "id": "91b72905-f8c1-45cd-9e56-ca0d4de72b5e",
   "metadata": {},
   "outputs": [
    {
     "name": "stdout",
     "output_type": "stream",
     "text": [
      "True\n"
     ]
    }
   ],
   "source": [
    "print(my_condition)"
   ]
  },
  {
   "cell_type": "code",
   "execution_count": 15,
   "id": "aab8bba8-35f7-4502-876f-8db046fc9612",
   "metadata": {},
   "outputs": [
    {
     "data": {
      "text/plain": [
       "True"
      ]
     },
     "execution_count": 15,
     "metadata": {},
     "output_type": "execute_result"
    }
   ],
   "source": [
    "True or False"
   ]
  },
  {
   "cell_type": "code",
   "execution_count": 16,
   "id": "863ab11b-3924-4752-9c45-31d91070816d",
   "metadata": {},
   "outputs": [
    {
     "data": {
      "text/plain": [
       "False"
      ]
     },
     "execution_count": 16,
     "metadata": {},
     "output_type": "execute_result"
    }
   ],
   "source": [
    "True and False"
   ]
  },
  {
   "cell_type": "code",
   "execution_count": 17,
   "id": "68e7c40b-8492-4167-897b-4c221b29792a",
   "metadata": {},
   "outputs": [
    {
     "data": {
      "text/plain": [
       "True"
      ]
     },
     "execution_count": 17,
     "metadata": {},
     "output_type": "execute_result"
    }
   ],
   "source": [
    "5< 9 and 5 > 1"
   ]
  },
  {
   "cell_type": "code",
   "execution_count": 19,
   "id": "f6a5f960-5bee-4bc1-83e7-387c5ad92681",
   "metadata": {},
   "outputs": [
    {
     "data": {
      "text/plain": [
       "True"
      ]
     },
     "execution_count": 19,
     "metadata": {},
     "output_type": "execute_result"
    }
   ],
   "source": [
    "(5< 9 and 5 == 1) or (5< 9 and 5 > 1)"
   ]
  },
  {
   "cell_type": "code",
   "execution_count": 21,
   "id": "64b84b95-5437-48cd-a39e-7e79fdbc7765",
   "metadata": {},
   "outputs": [
    {
     "name": "stdout",
     "output_type": "stream",
     "text": [
      "Maybe have your BMI checked\n"
     ]
    }
   ],
   "source": [
    "my_age = 20\n",
    "my_weight = 100\n",
    "\n",
    "if not my_age > 30 and my_weight >80:\n",
    "    print(\"Maybe have your BMI checked\")\n",
    "else:\n",
    "    print(\"dont worry\")"
   ]
  },
  {
   "cell_type": "code",
   "execution_count": 22,
   "id": "bdf54786-40ed-4859-a723-a711c11273af",
   "metadata": {},
   "outputs": [
    {
     "data": {
      "text/plain": [
       "False"
      ]
     },
     "execution_count": 22,
     "metadata": {},
     "output_type": "execute_result"
    }
   ],
   "source": [
    "not True"
   ]
  },
  {
   "cell_type": "code",
   "execution_count": 23,
   "id": "7318ab57-1bc3-4005-954e-0a0e7e93d75b",
   "metadata": {},
   "outputs": [
    {
     "data": {
      "text/plain": [
       "True"
      ]
     },
     "execution_count": 23,
     "metadata": {},
     "output_type": "execute_result"
    }
   ],
   "source": [
    "not False"
   ]
  },
  {
   "cell_type": "code",
   "execution_count": 24,
   "id": "ccad06c3-c6ba-4c40-ad82-b77d04cea0a3",
   "metadata": {},
   "outputs": [
    {
     "name": "stdout",
     "output_type": "stream",
     "text": [
      "True\n"
     ]
    }
   ],
   "source": [
    "if 10:\n",
    "    print (\"True\")\n",
    "else:\n",
    "    print(\"False\")"
   ]
  },
  {
   "cell_type": "code",
   "execution_count": 25,
   "id": "0980bca8-4c29-42f4-9f66-bc45a4cca1b1",
   "metadata": {},
   "outputs": [
    {
     "name": "stdout",
     "output_type": "stream",
     "text": [
      "False\n"
     ]
    }
   ],
   "source": [
    "if 0:\n",
    "    print (\"True\")\n",
    "else:\n",
    "    print(\"False\")"
   ]
  },
  {
   "cell_type": "code",
   "execution_count": 26,
   "id": "0891a9f9-8b06-4e14-a92a-1ab789eb3b9a",
   "metadata": {},
   "outputs": [
    {
     "name": "stdout",
     "output_type": "stream",
     "text": [
      "True\n"
     ]
    }
   ],
   "source": [
    "if -1:\n",
    "    print (\"True\")\n",
    "else:\n",
    "    print(\"False\")"
   ]
  },
  {
   "cell_type": "code",
   "execution_count": 27,
   "id": "d25ff628-cfaf-462e-bfdd-06f39d7048ef",
   "metadata": {},
   "outputs": [
    {
     "data": {
      "text/plain": [
       "10"
      ]
     },
     "execution_count": 27,
     "metadata": {},
     "output_type": "execute_result"
    }
   ],
   "source": [
    "10 or False"
   ]
  },
  {
   "cell_type": "code",
   "execution_count": 28,
   "id": "a47c9f4b-3c76-4402-9b4e-4c0023041501",
   "metadata": {},
   "outputs": [
    {
     "name": "stdout",
     "output_type": "stream",
     "text": [
      "True\n"
     ]
    }
   ],
   "source": [
    "if (10 or False):\n",
    "    print(\"True\")\n",
    "else:\n",
    "    print(\"False\")"
   ]
  },
  {
   "cell_type": "code",
   "execution_count": 32,
   "id": "632e9204-66ad-4976-b6b5-f2f73ce8472d",
   "metadata": {},
   "outputs": [
    {
     "name": "stdin",
     "output_type": "stream",
     "text": [
      "your name: \n"
     ]
    },
    {
     "name": "stdout",
     "output_type": "stream",
     "text": [
      "\n"
     ]
    }
   ],
   "source": [
    "name = input(\"your name:\") or\"<invalid_input>\"\n",
    "print(name)"
   ]
  },
  {
   "cell_type": "code",
   "execution_count": 36,
   "id": "385534ac-f460-46c4-b0a4-1eb2c164eaea",
   "metadata": {},
   "outputs": [
    {
     "name": "stdout",
     "output_type": "stream",
     "text": [
      "10 is < 500\n",
      "250 is < 500\n",
      "300 is < 500\n",
      "1500\n"
     ]
    }
   ],
   "source": [
    "numbers = [10,250,500,300,1000]\n",
    "total = 0\n",
    "\n",
    "for num in numbers:\n",
    "    if num <500:\n",
    "        print(f'{num} is < 500')\n",
    "        continue\n",
    "        \n",
    "    total += num\n",
    "print(total)"
   ]
  },
  {
   "cell_type": "code",
   "execution_count": 38,
   "id": "c05604fd-dedb-4611-93ce-da6d39e0032b",
   "metadata": {},
   "outputs": [
    {
     "name": "stdout",
     "output_type": "stream",
     "text": [
      "10 10\n",
      "250 260\n",
      "bad egg\n",
      "260\n"
     ]
    }
   ],
   "source": [
    "numbers = [10,250,500,300,1000]\n",
    "numbers[2] = 0\n",
    "\n",
    "total = 0\n",
    "for num in numbers:\n",
    "    if num == 0:\n",
    "        print(\"bad egg\")\n",
    "        break\n",
    "    total += num\n",
    "    print(f'{num} {total}')\n",
    "    \n",
    "print(total)"
   ]
  },
  {
   "cell_type": "code",
   "execution_count": 39,
   "id": "8f92c24a-9c90-44c4-af84-339e7e85eaf8",
   "metadata": {},
   "outputs": [
    {
     "name": "stdin",
     "output_type": "stream",
     "text": [
      "Enter name: \n",
      "Enter name: \n",
      "Enter name: \n",
      "Enter name: \n",
      "Enter name: \n",
      "Enter name: \n",
      "Enter name: \n",
      "Enter name: \n",
      "Enter name: \n",
      "Enter name: \n",
      "Enter name: \n",
      "Enter name: \n",
      "Enter name: \n",
      "Enter name: \n",
      "Enter name: \n",
      "Enter name: \n",
      "Enter name: \n",
      "Enter name: \n",
      "Enter name: \n",
      "Enter name: \n",
      "Enter name: Andrew\n"
     ]
    },
    {
     "name": "stdout",
     "output_type": "stream",
     "text": [
      "Hello Andrew\n"
     ]
    }
   ],
   "source": [
    "# while condition:\n",
    "    # body\n",
    "    \n",
    "# example with user input\n",
    "\n",
    "user_in = input(\"Enter name:\")\n",
    "\n",
    "while user_in == '':\n",
    "    user_in = input(\"Enter name:\")\n",
    "\n",
    "print(f\"Hello {user_in}\")"
   ]
  },
  {
   "cell_type": "code",
   "execution_count": null,
   "id": "56f003d8-65b2-4b49-b666-14390fe0d66a",
   "metadata": {},
   "outputs": [],
   "source": [
    "# infinite loop\n",
    "\n",
    "while True:\n",
    "    pass    \n",
    "    #statements\n",
    "    # nothing to change the condition\n",
    "    # unless a break statement"
   ]
  },
  {
   "cell_type": "code",
   "execution_count": null,
   "id": "e5968cb0-ef1d-4bbb-b151-064bb0a783fa",
   "metadata": {},
   "outputs": [],
   "source": [
    "print(\"hello\")"
   ]
  },
  {
   "cell_type": "code",
   "execution_count": 1,
   "id": "711d4b2a-fb8e-4b12-b1ec-9fde91731e49",
   "metadata": {},
   "outputs": [
    {
     "name": "stdin",
     "output_type": "stream",
     "text": [
      "Enter name: \n",
      "Enter name: \n",
      "Enter name: \n",
      "Enter name: \n",
      "Enter name: \n",
      "Enter name: \n",
      "Enter name: Andrew\n"
     ]
    },
    {
     "name": "stdout",
     "output_type": "stream",
     "text": [
      "Andrew\n"
     ]
    }
   ],
   "source": [
    "# infinite loop\n",
    "\n",
    "while True:\n",
    "    name = input(\"Enter name:\")\n",
    "    if name != '':\n",
    "        break\n",
    "    #statements\n",
    "    # nothing to change the condition\n",
    "    # unless a break statement\n",
    "print(name)"
   ]
  },
  {
   "cell_type": "code",
   "execution_count": null,
   "id": "89774ec4-1957-4d08-881a-92de5f7cfdd7",
   "metadata": {},
   "outputs": [],
   "source": []
  }
 ],
 "metadata": {
  "kernelspec": {
   "display_name": "info2000",
   "language": "python",
   "name": "info2000"
  },
  "language_info": {
   "codemirror_mode": {
    "name": "ipython",
    "version": 3
   },
   "file_extension": ".py",
   "mimetype": "text/x-python",
   "name": "python",
   "nbconvert_exporter": "python",
   "pygments_lexer": "ipython3",
   "version": "3.9.16"
  }
 },
 "nbformat": 4,
 "nbformat_minor": 5
}
