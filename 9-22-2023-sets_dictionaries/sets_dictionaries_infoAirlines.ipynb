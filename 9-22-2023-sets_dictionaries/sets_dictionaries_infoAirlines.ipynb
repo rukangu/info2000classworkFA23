{
 "cells": [
  {
   "cell_type": "code",
   "execution_count": 21,
   "id": "bc17c24a-992b-4c2b-b61b-9b6c49327590",
   "metadata": {},
   "outputs": [],
   "source": [
    "# set\n",
    "my_list =[1,2,3,4,4,5]\n",
    "\n",
    "new_list = list(set(my_list)) # remove duplicates"
   ]
  },
  {
   "cell_type": "code",
   "execution_count": 22,
   "id": "772cdce0-fa06-411b-bf3d-b59a71286166",
   "metadata": {},
   "outputs": [
    {
     "data": {
      "text/plain": [
       "{1, 2, 3, 4, 5}"
      ]
     },
     "execution_count": 22,
     "metadata": {},
     "output_type": "execute_result"
    }
   ],
   "source": [
    "set(my_list)"
   ]
  },
  {
   "cell_type": "code",
   "execution_count": 23,
   "id": "f9762124-6afe-4798-a5db-fd79c2f79d8a",
   "metadata": {},
   "outputs": [
    {
     "data": {
      "text/plain": [
       "[1, 2, 3, 4, 5]"
      ]
     },
     "execution_count": 23,
     "metadata": {},
     "output_type": "execute_result"
    }
   ],
   "source": [
    "new_list"
   ]
  },
  {
   "cell_type": "code",
   "execution_count": 24,
   "id": "0eaea29f-905f-49c3-bd0f-278055ef11d8",
   "metadata": {},
   "outputs": [],
   "source": [
    "my_list= list(set(my_list))"
   ]
  },
  {
   "cell_type": "code",
   "execution_count": 25,
   "id": "cf700ee5-d674-41a3-84d4-07d63008d79e",
   "metadata": {},
   "outputs": [
    {
     "data": {
      "text/plain": [
       "[1, 2, 3, 4, 5]"
      ]
     },
     "execution_count": 25,
     "metadata": {},
     "output_type": "execute_result"
    }
   ],
   "source": [
    "my_list"
   ]
  },
  {
   "cell_type": "code",
   "execution_count": 26,
   "id": "36779fed-4f30-4276-9d0f-6629b6291e8c",
   "metadata": {},
   "outputs": [],
   "source": [
    "my_dictionary = {\"name\":\"andrew\", 'major': 'Engineering', 'Sport':'soccer'}\n"
   ]
  },
  {
   "cell_type": "code",
   "execution_count": 27,
   "id": "e3a6c5af-cffc-4736-a0ec-2e4ad7e3054c",
   "metadata": {},
   "outputs": [
    {
     "data": {
      "text/plain": [
       "{'name': 'andrew', 'major': 'Engineering', 'Sport': 'soccer'}"
      ]
     },
     "execution_count": 27,
     "metadata": {},
     "output_type": "execute_result"
    }
   ],
   "source": [
    "my_dictionary"
   ]
  },
  {
   "cell_type": "code",
   "execution_count": 28,
   "id": "115fe276-f2dd-4231-9dcb-97807c903a3e",
   "metadata": {},
   "outputs": [
    {
     "name": "stdout",
     "output_type": "stream",
     "text": [
      "name\n",
      "major\n",
      "Sport\n"
     ]
    }
   ],
   "source": [
    "# iterate through the keys\n",
    "\n",
    "for key_var in my_dictionary.keys():\n",
    "    print(key_var)"
   ]
  },
  {
   "cell_type": "code",
   "execution_count": 29,
   "id": "39505e2e-3c6a-4da8-9412-1f1fec535845",
   "metadata": {},
   "outputs": [
    {
     "name": "stdout",
     "output_type": "stream",
     "text": [
      "andrew\n",
      "Engineering\n",
      "soccer\n"
     ]
    }
   ],
   "source": [
    "# iterate through the values\n",
    "\n",
    "for item_var in my_dictionary.values():\n",
    "    print(item_var)"
   ]
  },
  {
   "cell_type": "code",
   "execution_count": 30,
   "id": "4e57eeb0-6ffc-4d49-b869-b5d15b7d29cb",
   "metadata": {},
   "outputs": [],
   "source": [
    "# updating a dictionary\n",
    "\n",
    "my_dictionary['name'] = 'Rukangu'"
   ]
  },
  {
   "cell_type": "code",
   "execution_count": 31,
   "id": "90c4b274-f5cd-4e50-8863-3c727f5bc40f",
   "metadata": {},
   "outputs": [
    {
     "data": {
      "text/plain": [
       "{'name': 'Rukangu', 'major': 'Engineering', 'Sport': 'soccer'}"
      ]
     },
     "execution_count": 31,
     "metadata": {},
     "output_type": "execute_result"
    }
   ],
   "source": [
    "my_dictionary"
   ]
  },
  {
   "cell_type": "code",
   "execution_count": 32,
   "id": "7ceeeae8-b347-4c96-814f-c01478975138",
   "metadata": {},
   "outputs": [],
   "source": [
    "# using the update method\n",
    "\n",
    "# you need key-value pairs\n",
    "\n",
    "# updating using a new dictionary\n",
    "dict1 = {\"hometown\":\"Nairobi\"}\n",
    "\n",
    "my_dictionary.update(dict1)"
   ]
  },
  {
   "cell_type": "code",
   "execution_count": 33,
   "id": "57fe2117-8346-45cd-9dfc-2cf31aa50c73",
   "metadata": {},
   "outputs": [
    {
     "data": {
      "text/plain": [
       "{'name': 'Rukangu',\n",
       " 'major': 'Engineering',\n",
       " 'Sport': 'soccer',\n",
       " 'hometown': 'Nairobi'}"
      ]
     },
     "execution_count": 33,
     "metadata": {},
     "output_type": "execute_result"
    }
   ],
   "source": [
    "my_dictionary"
   ]
  },
  {
   "cell_type": "code",
   "execution_count": 34,
   "id": "2e8fcf8a-a5c9-41ef-b584-c6d238b0b319",
   "metadata": {},
   "outputs": [],
   "source": [
    "# change using update \n",
    "dict1 = {\"major\":\"Art\"}\n",
    "\n",
    "my_dictionary.update(dict1)\n"
   ]
  },
  {
   "cell_type": "code",
   "execution_count": 35,
   "id": "fa56406b-d9c9-4271-9ab8-fe22df103aa7",
   "metadata": {},
   "outputs": [
    {
     "data": {
      "text/plain": [
       "{'major': 'Art'}"
      ]
     },
     "execution_count": 35,
     "metadata": {},
     "output_type": "execute_result"
    }
   ],
   "source": [
    "dict1"
   ]
  },
  {
   "cell_type": "code",
   "execution_count": 36,
   "id": "4e09af7e-3dc9-4f6d-945c-15806cc3d5c9",
   "metadata": {},
   "outputs": [
    {
     "data": {
      "text/plain": [
       "{'name': 'Rukangu', 'major': 'Art', 'Sport': 'soccer', 'hometown': 'Nairobi'}"
      ]
     },
     "execution_count": 36,
     "metadata": {},
     "output_type": "execute_result"
    }
   ],
   "source": [
    "my_dictionary"
   ]
  },
  {
   "cell_type": "code",
   "execution_count": 38,
   "id": "9aa5373b-4476-4fd9-b569-168b7a966058",
   "metadata": {},
   "outputs": [
    {
     "data": {
      "text/plain": [
       "{'name': 'Rukangu',\n",
       " 'major': 'Art',\n",
       " 'Sport': 'soccer',\n",
       " 'hometown': 'Nairobi',\n",
       " 'favorite color': 'Red'}"
      ]
     },
     "execution_count": 38,
     "metadata": {},
     "output_type": "execute_result"
    }
   ],
   "source": [
    "# updating using lists (of tuples)\n",
    "\n",
    "update_list = [('favorite color','Red')]\n",
    "my_dictionary.update(update_list)\n",
    "my_dictionary"
   ]
  },
  {
   "cell_type": "code",
   "execution_count": 39,
   "id": "4c37808a-1b62-414b-9b97-f0e951165ee1",
   "metadata": {},
   "outputs": [],
   "source": [
    "# updating a dictionary with a list of several tuple pairs\n",
    "update_list2 = [('favorite soccer team','Liverpool'),('favorite football team','Bulldogs')]"
   ]
  },
  {
   "cell_type": "code",
   "execution_count": 40,
   "id": "949c3f1f-9ea8-4bd6-af86-640d6a39139c",
   "metadata": {},
   "outputs": [
    {
     "data": {
      "text/plain": [
       "[('favorite soccer team', 'Liverpool'), ('favorite football team', 'Bulldogs')]"
      ]
     },
     "execution_count": 40,
     "metadata": {},
     "output_type": "execute_result"
    }
   ],
   "source": [
    "update_list2"
   ]
  },
  {
   "cell_type": "code",
   "execution_count": 41,
   "id": "dcec198f-9c69-4165-9292-d720d3a321c7",
   "metadata": {},
   "outputs": [
    {
     "data": {
      "text/plain": [
       "{'name': 'Rukangu',\n",
       " 'major': 'Art',\n",
       " 'Sport': 'soccer',\n",
       " 'hometown': 'Nairobi',\n",
       " 'favorite color': 'Red',\n",
       " 'favorite soccer team': 'Liverpool',\n",
       " 'favorite football team': 'Bulldogs'}"
      ]
     },
     "execution_count": 41,
     "metadata": {},
     "output_type": "execute_result"
    }
   ],
   "source": [
    "my_dictionary.update(update_list2)\n",
    "my_dictionary"
   ]
  },
  {
   "cell_type": "markdown",
   "id": "c6dc068e-9381-4b91-9e5a-680cc04f1146",
   "metadata": {},
   "source": [
    "# INFO2000 Airlines"
   ]
  },
  {
   "cell_type": "code",
   "execution_count": 42,
   "id": "01455a86-fefd-4c1f-b04a-d35b9f4ebf6b",
   "metadata": {},
   "outputs": [
    {
     "name": "stdin",
     "output_type": "stream",
     "text": [
      "Where would you like to fly? Q|q to quit New York\n"
     ]
    },
    {
     "name": "stdout",
     "output_type": "stream",
     "text": [
      "welcome to info2000 airlines\n",
      "New York\n"
     ]
    },
    {
     "name": "stdin",
     "output_type": "stream",
     "text": [
      "Where would you like to fly? Q|q to quit q\n"
     ]
    }
   ],
   "source": [
    "# Firsst method of getting user input and quitting with a particular key, in this case 'q'\n",
    "\n",
    "# cost per mile\n",
    "\n",
    "cost_per_mile = 0.1 # $\n",
    "\n",
    "user_in = input(\"Where would you like to fly? Q|q to quit\")\n",
    "\n",
    "# dictionary for the destinations\n",
    "\n",
    "destinations = {\"New York\": 817.2, \"Miami\": 679, \"Frankfurt\": 4545}\n",
    "\n",
    "while user_in.casefold() != 'q':\n",
    "    # let's do airline stuff\n",
    "    print (\"welcome to info2000 airlines\")\n",
    "    print(user_in)\n",
    "    user_in = input(\"Where would you like to fly? Q|q to quit\")\n",
    "    \n",
    "    "
   ]
  },
  {
   "cell_type": "code",
   "execution_count": 44,
   "id": "af3725d8-1987-4340-95d8-2084c7bce66a",
   "metadata": {},
   "outputs": [
    {
     "name": "stdout",
     "output_type": "stream",
     "text": [
      "{'new york': 817.2, 'miami': 679, 'frankfurt': 4545}\n"
     ]
    },
    {
     "name": "stdin",
     "output_type": "stream",
     "text": [
      "Where would you like to fly? Q|q to quit AtLanta\n",
      "miles to atlanta 60\n",
      "Where would you like to fly? Q|q to quit ATLANTa\n"
     ]
    },
    {
     "name": "stdout",
     "output_type": "stream",
     "text": [
      "your fare is 6.0\n"
     ]
    },
    {
     "name": "stdin",
     "output_type": "stream",
     "text": [
      "Where would you like to fly? Q|q to quit frankfurt\n"
     ]
    },
    {
     "name": "stdout",
     "output_type": "stream",
     "text": [
      "your fare is 454.5\n"
     ]
    },
    {
     "name": "stdin",
     "output_type": "stream",
     "text": [
      "Where would you like to fly? Q|q to quit Miami\n"
     ]
    },
    {
     "name": "stdout",
     "output_type": "stream",
     "text": [
      "your fare is 67.9\n"
     ]
    },
    {
     "name": "stdin",
     "output_type": "stream",
     "text": [
      "Where would you like to fly? Q|q to quit new yORK\n"
     ]
    },
    {
     "name": "stdout",
     "output_type": "stream",
     "text": [
      "your fare is 81.72000000000001\n"
     ]
    },
    {
     "name": "stdin",
     "output_type": "stream",
     "text": [
      "Where would you like to fly? Q|q to quit q\n"
     ]
    },
    {
     "name": "stdout",
     "output_type": "stream",
     "text": [
      "Thanks for flying INFO!\n"
     ]
    }
   ],
   "source": [
    "# using the while true setup to get user input\n",
    "\n",
    "# cost per mile\n",
    "cost_per_mile = 0.1 # $\n",
    "\n",
    "# dictionary for the destinations\n",
    "\n",
    "destinations = {\"New York\": 817.2, \"Miami\": 679, \"Frankfurt\": 4545}\n",
    "# standardizing the keys so that we can use them to search for the destination later on\n",
    "updated_destinations = {}\n",
    "for key, value in destinations.items():\n",
    "    updated_destinations[key.casefold()] = value\n",
    "    \n",
    "print(updated_destinations)\n",
    "\n",
    "while True:\n",
    "    user_in = input(\"Where would you like to fly? Q|q to quit\")  \n",
    "    \n",
    "    if user_in.casefold() == 'q':\n",
    "        break\n",
    "    else:\n",
    "        # let's do airline stuff\n",
    "        # print (\"welcome to info2000 airlines\")\n",
    "        # print(user_in)\n",
    "        if user_in.casefold() in updated_destinations:\n",
    "            print(f\"your fare is {updated_destinations[user_in.casefold()] * cost_per_mile}\")\n",
    "        else:\n",
    "            mileage = float(input(f\"miles to {user_in.casefold()}\"))\n",
    "            updated_destinations[user_in.casefold()] = mileage                     \n",
    "                                  \n",
    "    \n",
    "print(\"Thanks for flying INFO!\")  \n",
    "    "
   ]
  },
  {
   "cell_type": "code",
   "execution_count": 3,
   "id": "d1b9b806-1c98-4cac-bd95-32a053be8c4c",
   "metadata": {},
   "outputs": [
    {
     "data": {
      "text/plain": [
       "True"
      ]
     },
     "execution_count": 3,
     "metadata": {},
     "output_type": "execute_result"
    }
   ],
   "source": [
    "'New York' in destinations"
   ]
  },
  {
   "cell_type": "code",
   "execution_count": 5,
   "id": "3f91e6e0-8372-4354-a03c-da2d1273354d",
   "metadata": {},
   "outputs": [
    {
     "data": {
      "text/plain": [
       "True"
      ]
     },
     "execution_count": 5,
     "metadata": {},
     "output_type": "execute_result"
    }
   ],
   "source": [
    "817.2 in destinations.values()"
   ]
  },
  {
   "cell_type": "code",
   "execution_count": 11,
   "id": "6ec2b512-da1e-4575-ba3d-dc9130848ba5",
   "metadata": {},
   "outputs": [
    {
     "data": {
      "text/plain": [
       "False"
      ]
     },
     "execution_count": 11,
     "metadata": {},
     "output_type": "execute_result"
    }
   ],
   "source": [
    "'New YORK' in destinations"
   ]
  },
  {
   "cell_type": "code",
   "execution_count": null,
   "id": "ef914a5c-aa3d-4c80-bd15-35ca4c737e49",
   "metadata": {},
   "outputs": [],
   "source": []
  }
 ],
 "metadata": {
  "kernelspec": {
   "display_name": "info2000",
   "language": "python",
   "name": "info2000"
  },
  "language_info": {
   "codemirror_mode": {
    "name": "ipython",
    "version": 3
   },
   "file_extension": ".py",
   "mimetype": "text/x-python",
   "name": "python",
   "nbconvert_exporter": "python",
   "pygments_lexer": "ipython3",
   "version": "3.9.16"
  }
 },
 "nbformat": 4,
 "nbformat_minor": 5
}
