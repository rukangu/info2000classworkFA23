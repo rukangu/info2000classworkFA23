{
 "cells": [
  {
   "cell_type": "code",
   "execution_count": null,
   "id": "bc17c24a-992b-4c2b-b61b-9b6c49327590",
   "metadata": {},
   "outputs": [],
   "source": [
    "# set\n",
    "my_list =[1,2,3,4,4,5]\n",
    "\n",
    "new_list = list(set(my_list))"
   ]
  },
  {
   "cell_type": "code",
   "execution_count": null,
   "id": "772cdce0-fa06-411b-bf3d-b59a71286166",
   "metadata": {},
   "outputs": [],
   "source": [
    "set(my_list)"
   ]
  },
  {
   "cell_type": "code",
   "execution_count": null,
   "id": "f9762124-6afe-4798-a5db-fd79c2f79d8a",
   "metadata": {},
   "outputs": [],
   "source": [
    "new_list"
   ]
  },
  {
   "cell_type": "code",
   "execution_count": null,
   "id": "0eaea29f-905f-49c3-bd0f-278055ef11d8",
   "metadata": {},
   "outputs": [],
   "source": [
    "my_list= list(set(my_list))"
   ]
  },
  {
   "cell_type": "code",
   "execution_count": null,
   "id": "cf700ee5-d674-41a3-84d4-07d63008d79e",
   "metadata": {},
   "outputs": [],
   "source": [
    "my_list"
   ]
  },
  {
   "cell_type": "code",
   "execution_count": null,
   "id": "36779fed-4f30-4276-9d0f-6629b6291e8c",
   "metadata": {},
   "outputs": [],
   "source": [
    "my_dictionary = {\"name\":\"andrew\", 'major': 'Engineering', 'Sport':'soccer'}\n"
   ]
  },
  {
   "cell_type": "code",
   "execution_count": null,
   "id": "e3a6c5af-cffc-4736-a0ec-2e4ad7e3054c",
   "metadata": {},
   "outputs": [],
   "source": [
    "my_dictionary"
   ]
  },
  {
   "cell_type": "code",
   "execution_count": null,
   "id": "115fe276-f2dd-4231-9dcb-97807c903a3e",
   "metadata": {},
   "outputs": [],
   "source": [
    "# iterate through the keys\n",
    "\n",
    "for key_var in my_dictionary.keys():\n",
    "    print(key_var)"
   ]
  },
  {
   "cell_type": "code",
   "execution_count": null,
   "id": "39505e2e-3c6a-4da8-9412-1f1fec535845",
   "metadata": {},
   "outputs": [],
   "source": [
    "# iterate through the values\n",
    "\n",
    "for item_var in my_dictionary.values():\n",
    "    print(item_var)"
   ]
  },
  {
   "cell_type": "code",
   "execution_count": null,
   "id": "4e57eeb0-6ffc-4d49-b869-b5d15b7d29cb",
   "metadata": {},
   "outputs": [],
   "source": [
    "# updating\n",
    "\n",
    "my_dictionary['name'] = 'Rukangu'"
   ]
  },
  {
   "cell_type": "code",
   "execution_count": null,
   "id": "90c4b274-f5cd-4e50-8863-3c727f5bc40f",
   "metadata": {},
   "outputs": [],
   "source": [
    "my_dictionary"
   ]
  },
  {
   "cell_type": "code",
   "execution_count": null,
   "id": "7ceeeae8-b347-4c96-814f-c01478975138",
   "metadata": {},
   "outputs": [],
   "source": [
    "# using the update method\n",
    "\n",
    "# you need key-value pairs\n",
    "\n",
    "dict1 = {\"hometown\":\"Nairobi\"}\n",
    "\n",
    "my_dictionary.update(dict1)"
   ]
  },
  {
   "cell_type": "code",
   "execution_count": null,
   "id": "57fe2117-8346-45cd-9dfc-2cf31aa50c73",
   "metadata": {},
   "outputs": [],
   "source": [
    "my_dictionary"
   ]
  },
  {
   "cell_type": "code",
   "execution_count": null,
   "id": "2e8fcf8a-a5c9-41ef-b584-c6d238b0b319",
   "metadata": {},
   "outputs": [],
   "source": [
    "# change using update \n",
    "dict1 = {\"major\":\"Art\"}\n",
    "\n",
    "my_dictionary.update(dict1)\n"
   ]
  },
  {
   "cell_type": "code",
   "execution_count": null,
   "id": "fa56406b-d9c9-4271-9ab8-fe22df103aa7",
   "metadata": {},
   "outputs": [],
   "source": [
    "dict1"
   ]
  },
  {
   "cell_type": "code",
   "execution_count": null,
   "id": "4e09af7e-3dc9-4f6d-945c-15806cc3d5c9",
   "metadata": {},
   "outputs": [],
   "source": [
    "my_dictionary"
   ]
  },
  {
   "cell_type": "code",
   "execution_count": null,
   "id": "9aa5373b-4476-4fd9-b569-168b7a966058",
   "metadata": {},
   "outputs": [],
   "source": [
    "# updating using lists\n",
    "\n",
    "update_list = [('favorite color','Red')]\n",
    "my_dictionary.update(update_list)\n",
    "my_dictionary"
   ]
  },
  {
   "cell_type": "code",
   "execution_count": null,
   "id": "4c37808a-1b62-414b-9b97-f0e951165ee1",
   "metadata": {},
   "outputs": [],
   "source": [
    "update_list2 = [('favorite soccer team','Liverpool'),('favorite football team','Bulldogs')]"
   ]
  },
  {
   "cell_type": "code",
   "execution_count": null,
   "id": "949c3f1f-9ea8-4bd6-af86-640d6a39139c",
   "metadata": {},
   "outputs": [],
   "source": [
    "update_list2"
   ]
  },
  {
   "cell_type": "code",
   "execution_count": null,
   "id": "dcec198f-9c69-4165-9292-d720d3a321c7",
   "metadata": {},
   "outputs": [],
   "source": [
    "my_dictionary.update(update_list2)\n",
    "my_dictionary"
   ]
  },
  {
   "cell_type": "markdown",
   "id": "c6dc068e-9381-4b91-9e5a-680cc04f1146",
   "metadata": {},
   "source": [
    "# INFO2000 Airlines"
   ]
  },
  {
   "cell_type": "code",
   "execution_count": null,
   "id": "01455a86-fefd-4c1f-b04a-d35b9f4ebf6b",
   "metadata": {},
   "outputs": [],
   "source": [
    "# cost per mile\n",
    "\n",
    "cost_per_mile = 0.1 # $\n",
    "\n",
    "user_in = input(\"Where would you like to fly? Q|q to quit\")\n",
    "\n",
    "# dictionary for the destinations\n",
    "\n",
    "destinations = {\"New York\": 817.2, \"Miami\": 679, \"Frankfurt\": 4545}\n",
    "\n",
    "while user_in.casefold() != 'q':\n",
    "    # let's do airline stuff\n",
    "    print (\"welcome to info2000 airlines\")\n",
    "    print(user_in)\n",
    "    user_in = input(\"Where would you like to fly? Q|q to quit\")\n",
    "    \n",
    "    "
   ]
  },
  {
   "cell_type": "code",
   "execution_count": 19,
   "id": "af3725d8-1987-4340-95d8-2084c7bce66a",
   "metadata": {},
   "outputs": [
    {
     "name": "stdin",
     "output_type": "stream",
     "text": [
      "Where would you like to fly? Q|q to quit Atlanta\n",
      "miles to atlanta 60\n",
      "Where would you like to fly? Q|q to quit AtlanTA\n"
     ]
    },
    {
     "name": "stdout",
     "output_type": "stream",
     "text": [
      "your fare is 6.0\n"
     ]
    },
    {
     "name": "stdin",
     "output_type": "stream",
     "text": [
      "Where would you like to fly? Q|q to quit q\n"
     ]
    },
    {
     "name": "stdout",
     "output_type": "stream",
     "text": [
      "Thanks for flying INFO!\n"
     ]
    }
   ],
   "source": [
    "# cost per mile\n",
    "cost_per_mile = 0.1 # $\n",
    "\n",
    "# dictionary for the destinations\n",
    "\n",
    "destinations = {\"New York\": 817.2, \"Miami\": 679, \"Frankfurt\": 4545}\n",
    "updated_destinations = {}\n",
    "for key, value in destinations.items():\n",
    "    updated_destinations[key.casefold()] = value\n",
    "updated_destinations\n",
    "\n",
    "while True:\n",
    "    user_in = input(\"Where would you like to fly? Q|q to quit\")  \n",
    "    \n",
    "    if user_in.casefold() == 'q':\n",
    "        break\n",
    "    else:\n",
    "        # let's do airline stuff\n",
    "        # print (\"welcome to info2000 airlines\")\n",
    "        # print(user_in)\n",
    "        if user_in.casefold() in updated_destinations:\n",
    "            print(f\"your fare is {updated_destinations[user_in.casefold()] * cost_per_mile}\")\n",
    "        else:\n",
    "            mileage = float(input(f\"miles to {user_in.casefold()}\"))\n",
    "            updated_destinations[user_in.casefold()] = mileage                     \n",
    "                                  \n",
    "    \n",
    "print(\"Thanks for flying INFO!\")\n",
    "    \n",
    "    "
   ]
  },
  {
   "cell_type": "code",
   "execution_count": 3,
   "id": "d1b9b806-1c98-4cac-bd95-32a053be8c4c",
   "metadata": {},
   "outputs": [
    {
     "data": {
      "text/plain": [
       "True"
      ]
     },
     "execution_count": 3,
     "metadata": {},
     "output_type": "execute_result"
    }
   ],
   "source": [
    "'New York' in destinations"
   ]
  },
  {
   "cell_type": "code",
   "execution_count": 5,
   "id": "3f91e6e0-8372-4354-a03c-da2d1273354d",
   "metadata": {},
   "outputs": [
    {
     "data": {
      "text/plain": [
       "True"
      ]
     },
     "execution_count": 5,
     "metadata": {},
     "output_type": "execute_result"
    }
   ],
   "source": [
    "817.2 in destinations.values()"
   ]
  },
  {
   "cell_type": "code",
   "execution_count": 11,
   "id": "6ec2b512-da1e-4575-ba3d-dc9130848ba5",
   "metadata": {},
   "outputs": [
    {
     "data": {
      "text/plain": [
       "False"
      ]
     },
     "execution_count": 11,
     "metadata": {},
     "output_type": "execute_result"
    }
   ],
   "source": [
    "'New YORK' in destinations"
   ]
  },
  {
   "cell_type": "code",
   "execution_count": null,
   "id": "ef914a5c-aa3d-4c80-bd15-35ca4c737e49",
   "metadata": {},
   "outputs": [],
   "source": []
  }
 ],
 "metadata": {
  "kernelspec": {
   "display_name": "info2000",
   "language": "python",
   "name": "info2000"
  },
  "language_info": {
   "codemirror_mode": {
    "name": "ipython",
    "version": 3
   },
   "file_extension": ".py",
   "mimetype": "text/x-python",
   "name": "python",
   "nbconvert_exporter": "python",
   "pygments_lexer": "ipython3",
   "version": "3.9.16"
  }
 },
 "nbformat": 4,
 "nbformat_minor": 5
}
