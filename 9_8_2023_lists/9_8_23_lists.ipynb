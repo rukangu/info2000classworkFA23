{
 "cells": [
  {
   "cell_type": "code",
   "execution_count": 10,
   "id": "67114c5f-adbe-4070-9550-3db4292e1250",
   "metadata": {},
   "outputs": [],
   "source": [
    "empty_list = [] # creating empty lists"
   ]
  },
  {
   "cell_type": "code",
   "execution_count": 11,
   "id": "de2a60be-8a64-4ebd-97ab-b01d19f8c9b6",
   "metadata": {},
   "outputs": [
    {
     "data": {
      "text/plain": [
       "[]"
      ]
     },
     "execution_count": 11,
     "metadata": {},
     "output_type": "execute_result"
    }
   ],
   "source": [
    "empty_list"
   ]
  },
  {
   "cell_type": "code",
   "execution_count": 12,
   "id": "6c655f77-eb20-4ebe-bfea-58eb5310bd84",
   "metadata": {},
   "outputs": [],
   "source": [
    "empty_list2 = list()"
   ]
  },
  {
   "cell_type": "code",
   "execution_count": 13,
   "id": "44b25537-e6e5-4b20-bb68-aa5c567d28d3",
   "metadata": {},
   "outputs": [
    {
     "data": {
      "text/plain": [
       "[]"
      ]
     },
     "execution_count": 13,
     "metadata": {},
     "output_type": "execute_result"
    }
   ],
   "source": [
    "empty_list2"
   ]
  },
  {
   "cell_type": "code",
   "execution_count": 14,
   "id": "bdb35d28-2011-4b88-b25c-11d3b474b066",
   "metadata": {},
   "outputs": [],
   "source": [
    "my_list = [1,2,3,4,5,\"astring\"] # lists can contain different datatypes"
   ]
  },
  {
   "cell_type": "code",
   "execution_count": 15,
   "id": "0c7f9322-3682-46b7-9c78-d896cbf94a15",
   "metadata": {},
   "outputs": [
    {
     "name": "stdout",
     "output_type": "stream",
     "text": [
      "[1, 2, 3, 4, 5, 'astring']\n"
     ]
    }
   ],
   "source": [
    "print(my_list)\n"
   ]
  },
  {
   "cell_type": "code",
   "execution_count": 16,
   "id": "15c1767c-6d3a-48dd-b51a-eac57f273306",
   "metadata": {},
   "outputs": [
    {
     "data": {
      "text/plain": [
       "1"
      ]
     },
     "execution_count": 16,
     "metadata": {},
     "output_type": "execute_result"
    }
   ],
   "source": [
    "my_list[0] #lists are 0-indexed"
   ]
  },
  {
   "cell_type": "markdown",
   "id": "7d032e85-c2fb-462d-aa6a-aa0dd395db79",
   "metadata": {},
   "source": [
    "## Accessing lists and list-slicing"
   ]
  },
  {
   "cell_type": "code",
   "execution_count": 17,
   "id": "3b747cd6-d744-4af0-be4f-1f9a3660b2c8",
   "metadata": {},
   "outputs": [
    {
     "data": {
      "text/plain": [
       "'astring'"
      ]
     },
     "execution_count": 17,
     "metadata": {},
     "output_type": "execute_result"
    }
   ],
   "source": [
    "my_list[5]"
   ]
  },
  {
   "cell_type": "code",
   "execution_count": 18,
   "id": "f9ce1482-9b80-4d7d-8116-c1076d66cbcc",
   "metadata": {},
   "outputs": [
    {
     "ename": "IndexError",
     "evalue": "list index out of range",
     "output_type": "error",
     "traceback": [
      "\u001b[1;31m---------------------------------------------------------------------------\u001b[0m",
      "\u001b[1;31mIndexError\u001b[0m                                Traceback (most recent call last)",
      "Cell \u001b[1;32mIn[18], line 1\u001b[0m\n\u001b[1;32m----> 1\u001b[0m \u001b[43mmy_list\u001b[49m\u001b[43m[\u001b[49m\u001b[38;5;241;43m6\u001b[39;49m\u001b[43m]\u001b[49m\n",
      "\u001b[1;31mIndexError\u001b[0m: list index out of range"
     ]
    }
   ],
   "source": [
    "my_list[6]"
   ]
  },
  {
   "cell_type": "code",
   "execution_count": 19,
   "id": "baebc3a7-671b-47d0-940e-971340ba65da",
   "metadata": {},
   "outputs": [
    {
     "data": {
      "text/plain": [
       "[1, 2, 3]"
      ]
     },
     "execution_count": 19,
     "metadata": {},
     "output_type": "execute_result"
    }
   ],
   "source": [
    "my_list[0:3]"
   ]
  },
  {
   "cell_type": "code",
   "execution_count": 20,
   "id": "ca3dc9c8-ecba-4c7d-a8be-59a4decefa39",
   "metadata": {},
   "outputs": [
    {
     "data": {
      "text/plain": [
       "4"
      ]
     },
     "execution_count": 20,
     "metadata": {},
     "output_type": "execute_result"
    }
   ],
   "source": [
    "my_list[3]"
   ]
  },
  {
   "cell_type": "code",
   "execution_count": 21,
   "id": "052275db-ba5f-440b-8070-fcafd9703743",
   "metadata": {},
   "outputs": [
    {
     "data": {
      "text/plain": [
       "[1, 2, 3, 4, 5, 'astring']"
      ]
     },
     "execution_count": 21,
     "metadata": {},
     "output_type": "execute_result"
    }
   ],
   "source": [
    "my_list[::]"
   ]
  },
  {
   "cell_type": "code",
   "execution_count": 22,
   "id": "551041aa-a0e8-4447-91cb-b4d9877cc467",
   "metadata": {},
   "outputs": [
    {
     "data": {
      "text/plain": [
       "'astring'"
      ]
     },
     "execution_count": 22,
     "metadata": {},
     "output_type": "execute_result"
    }
   ],
   "source": [
    "my_list[-1]"
   ]
  },
  {
   "cell_type": "code",
   "execution_count": 23,
   "id": "edfd1427-8102-4c39-aa69-1fefac672766",
   "metadata": {},
   "outputs": [
    {
     "data": {
      "text/plain": [
       "[1, 2, 3, 4, 5, 'astring']"
      ]
     },
     "execution_count": 23,
     "metadata": {},
     "output_type": "execute_result"
    }
   ],
   "source": [
    "my_list[0::1]"
   ]
  },
  {
   "cell_type": "code",
   "execution_count": 24,
   "id": "7f78f0ac-1f69-4bed-b141-53d9a625c6b8",
   "metadata": {},
   "outputs": [
    {
     "data": {
      "text/plain": [
       "[1, 3, 5]"
      ]
     },
     "execution_count": 24,
     "metadata": {},
     "output_type": "execute_result"
    }
   ],
   "source": [
    "my_list[::2]"
   ]
  },
  {
   "cell_type": "code",
   "execution_count": 25,
   "id": "e0a81134-72fd-4652-af1d-d34a83201d61",
   "metadata": {},
   "outputs": [
    {
     "data": {
      "text/plain": [
       "[2, 4, 'astring']"
      ]
     },
     "execution_count": 25,
     "metadata": {},
     "output_type": "execute_result"
    }
   ],
   "source": [
    "my_list[1::2]"
   ]
  },
  {
   "cell_type": "code",
   "execution_count": 26,
   "id": "26d8c550-fd41-401b-9aee-27d6ab747836",
   "metadata": {},
   "outputs": [
    {
     "data": {
      "text/plain": [
       "['astring', 5, 4, 3, 2, 1]"
      ]
     },
     "execution_count": 26,
     "metadata": {},
     "output_type": "execute_result"
    }
   ],
   "source": [
    "my_list[::-1]"
   ]
  },
  {
   "cell_type": "code",
   "execution_count": 27,
   "id": "4b6a3ec5-243e-482a-b19a-549ddacdddd8",
   "metadata": {},
   "outputs": [
    {
     "data": {
      "text/plain": [
       "[4, 3, 2, 1]"
      ]
     },
     "execution_count": 27,
     "metadata": {},
     "output_type": "execute_result"
    }
   ],
   "source": [
    "my_list[3::-1]"
   ]
  },
  {
   "cell_type": "code",
   "execution_count": 28,
   "id": "efd8d2b8-de64-4056-9e05-98c689e1f61c",
   "metadata": {},
   "outputs": [
    {
     "data": {
      "text/plain": [
       "'astring'"
      ]
     },
     "execution_count": 28,
     "metadata": {},
     "output_type": "execute_result"
    }
   ],
   "source": [
    "my_list[-1]"
   ]
  },
  {
   "cell_type": "code",
   "execution_count": 29,
   "id": "f5dcf795-0c72-4cba-b666-c14b7051cfba",
   "metadata": {},
   "outputs": [],
   "source": [
    "my_list[-1] = 'an_updated_string'"
   ]
  },
  {
   "cell_type": "code",
   "execution_count": 30,
   "id": "926d9568-8c6b-42b9-bfaf-ef5021e9fd10",
   "metadata": {},
   "outputs": [
    {
     "data": {
      "text/plain": [
       "[1, 2, 3, 4, 5, 'an_updated_string']"
      ]
     },
     "execution_count": 30,
     "metadata": {},
     "output_type": "execute_result"
    }
   ],
   "source": [
    "my_list"
   ]
  },
  {
   "cell_type": "code",
   "execution_count": 31,
   "id": "14c6e5e1-af43-4158-8851-5624a0aa737a",
   "metadata": {},
   "outputs": [],
   "source": [
    "my_list[0:3] = [10,20,30]"
   ]
  },
  {
   "cell_type": "code",
   "execution_count": 32,
   "id": "8fe734e3-2338-419a-a9b8-cf2625e3a4ed",
   "metadata": {},
   "outputs": [
    {
     "data": {
      "text/plain": [
       "[10, 20, 30, 4, 5, 'an_updated_string']"
      ]
     },
     "execution_count": 32,
     "metadata": {},
     "output_type": "execute_result"
    }
   ],
   "source": [
    "my_list\n"
   ]
  },
  {
   "cell_type": "code",
   "execution_count": 33,
   "id": "6224cf8c-20ed-4e55-9e7c-0cb1aa39585e",
   "metadata": {},
   "outputs": [],
   "source": [
    "my_list.append(1000)"
   ]
  },
  {
   "cell_type": "code",
   "execution_count": 34,
   "id": "98b64889-a6c0-4cf5-b2ee-e3a4b517488d",
   "metadata": {},
   "outputs": [
    {
     "data": {
      "text/plain": [
       "[10, 20, 30, 4, 5, 'an_updated_string', 1000]"
      ]
     },
     "execution_count": 34,
     "metadata": {},
     "output_type": "execute_result"
    }
   ],
   "source": [
    "my_list\n"
   ]
  },
  {
   "cell_type": "code",
   "execution_count": 35,
   "id": "b6bc129f-1d54-4285-8325-6e15b492c3e5",
   "metadata": {},
   "outputs": [],
   "source": [
    "my_list.append([1,2,4,5,6,7])"
   ]
  },
  {
   "cell_type": "code",
   "execution_count": 36,
   "id": "579a5d12-fd10-4f03-b3da-2505ac4a7fd2",
   "metadata": {},
   "outputs": [
    {
     "data": {
      "text/plain": [
       "[10, 20, 30, 4, 5, 'an_updated_string', 1000, [1, 2, 4, 5, 6, 7]]"
      ]
     },
     "execution_count": 36,
     "metadata": {},
     "output_type": "execute_result"
    }
   ],
   "source": [
    "my_list"
   ]
  },
  {
   "cell_type": "code",
   "execution_count": 37,
   "id": "843a4aa8-3b46-4dd3-a85a-a7203b709185",
   "metadata": {},
   "outputs": [],
   "source": [
    "my_list.extend([1,2,4,5,6,7])"
   ]
  },
  {
   "cell_type": "code",
   "execution_count": 38,
   "id": "d298d162-09b8-48ef-8d66-109ef73d60df",
   "metadata": {},
   "outputs": [
    {
     "data": {
      "text/plain": [
       "[10,\n",
       " 20,\n",
       " 30,\n",
       " 4,\n",
       " 5,\n",
       " 'an_updated_string',\n",
       " 1000,\n",
       " [1, 2, 4, 5, 6, 7],\n",
       " 1,\n",
       " 2,\n",
       " 4,\n",
       " 5,\n",
       " 6,\n",
       " 7]"
      ]
     },
     "execution_count": 38,
     "metadata": {},
     "output_type": "execute_result"
    }
   ],
   "source": [
    "my_list"
   ]
  },
  {
   "cell_type": "code",
   "execution_count": 39,
   "id": "c356ba8f-8db4-43a0-a9a0-38a69c4e8f11",
   "metadata": {},
   "outputs": [],
   "source": [
    "my_matrix = [[],[],[]] # 3x3 matrix"
   ]
  },
  {
   "cell_type": "code",
   "execution_count": 40,
   "id": "51f31937-3b34-4b3f-b473-19793ab033ce",
   "metadata": {},
   "outputs": [
    {
     "data": {
      "text/plain": [
       "[[], [], []]"
      ]
     },
     "execution_count": 40,
     "metadata": {},
     "output_type": "execute_result"
    }
   ],
   "source": [
    "my_matrix"
   ]
  },
  {
   "cell_type": "code",
   "execution_count": 41,
   "id": "b4975fe0-2682-48f7-877f-c2bc3ef7d7db",
   "metadata": {},
   "outputs": [],
   "source": [
    "my_matrix = [[1,2,3],[3,4,5],[6,7,8]] # 3x3 matrix"
   ]
  },
  {
   "cell_type": "code",
   "execution_count": 42,
   "id": "0358ed59-c9c7-4d65-9cc4-f933285dd923",
   "metadata": {},
   "outputs": [
    {
     "data": {
      "text/plain": [
       "[[1, 2, 3], [3, 4, 5], [6, 7, 8]]"
      ]
     },
     "execution_count": 42,
     "metadata": {},
     "output_type": "execute_result"
    }
   ],
   "source": [
    "my_matrix"
   ]
  },
  {
   "cell_type": "code",
   "execution_count": 43,
   "id": "d7baad89-d9b8-44d6-b3ec-b63be18fb1e6",
   "metadata": {},
   "outputs": [
    {
     "data": {
      "text/plain": [
       "[1, 2, 3]"
      ]
     },
     "execution_count": 43,
     "metadata": {},
     "output_type": "execute_result"
    }
   ],
   "source": [
    "my_matrix[0]"
   ]
  },
  {
   "cell_type": "code",
   "execution_count": 44,
   "id": "1088e6f3-d9f8-4710-bc31-f3b10e7fa72e",
   "metadata": {},
   "outputs": [
    {
     "data": {
      "text/plain": [
       "1"
      ]
     },
     "execution_count": 44,
     "metadata": {},
     "output_type": "execute_result"
    }
   ],
   "source": [
    "my_matrix[0][0]"
   ]
  },
  {
   "cell_type": "code",
   "execution_count": 45,
   "id": "f070d65d-b54e-4a2e-9779-5204e51387ec",
   "metadata": {},
   "outputs": [
    {
     "data": {
      "text/plain": [
       "8"
      ]
     },
     "execution_count": 45,
     "metadata": {},
     "output_type": "execute_result"
    }
   ],
   "source": [
    "my_matrix[2][2]"
   ]
  },
  {
   "cell_type": "code",
   "execution_count": 46,
   "id": "f50fcb4d-14f5-4a79-a274-5114c55c3008",
   "metadata": {},
   "outputs": [
    {
     "data": {
      "text/plain": [
       "['__add__',\n",
       " '__class__',\n",
       " '__class_getitem__',\n",
       " '__contains__',\n",
       " '__delattr__',\n",
       " '__delitem__',\n",
       " '__dir__',\n",
       " '__doc__',\n",
       " '__eq__',\n",
       " '__format__',\n",
       " '__ge__',\n",
       " '__getattribute__',\n",
       " '__getitem__',\n",
       " '__gt__',\n",
       " '__hash__',\n",
       " '__iadd__',\n",
       " '__imul__',\n",
       " '__init__',\n",
       " '__init_subclass__',\n",
       " '__iter__',\n",
       " '__le__',\n",
       " '__len__',\n",
       " '__lt__',\n",
       " '__mul__',\n",
       " '__ne__',\n",
       " '__new__',\n",
       " '__reduce__',\n",
       " '__reduce_ex__',\n",
       " '__repr__',\n",
       " '__reversed__',\n",
       " '__rmul__',\n",
       " '__setattr__',\n",
       " '__setitem__',\n",
       " '__sizeof__',\n",
       " '__str__',\n",
       " '__subclasshook__',\n",
       " 'append',\n",
       " 'clear',\n",
       " 'copy',\n",
       " 'count',\n",
       " 'extend',\n",
       " 'index',\n",
       " 'insert',\n",
       " 'pop',\n",
       " 'remove',\n",
       " 'reverse',\n",
       " 'sort']"
      ]
     },
     "execution_count": 46,
     "metadata": {},
     "output_type": "execute_result"
    }
   ],
   "source": [
    "dir(my_matrix)"
   ]
  },
  {
   "cell_type": "code",
   "execution_count": 47,
   "id": "a04fa352-5d8e-49bd-87c8-d247b6f48bd9",
   "metadata": {},
   "outputs": [
    {
     "ename": "NameError",
     "evalue": "name 'sort' is not defined",
     "output_type": "error",
     "traceback": [
      "\u001b[1;31m---------------------------------------------------------------------------\u001b[0m",
      "\u001b[1;31mNameError\u001b[0m                                 Traceback (most recent call last)",
      "Cell \u001b[1;32mIn[47], line 1\u001b[0m\n\u001b[1;32m----> 1\u001b[0m \u001b[43msort\u001b[49m(my_list)\n",
      "\u001b[1;31mNameError\u001b[0m: name 'sort' is not defined"
     ]
    }
   ],
   "source": [
    "sort(my_list) # trying to sort the list"
   ]
  },
  {
   "cell_type": "code",
   "execution_count": 48,
   "id": "f12d2b8c-3d71-4dfa-a720-27e8819a453b",
   "metadata": {},
   "outputs": [
    {
     "ename": "TypeError",
     "evalue": "'<' not supported between instances of 'str' and 'int'",
     "output_type": "error",
     "traceback": [
      "\u001b[1;31m---------------------------------------------------------------------------\u001b[0m",
      "\u001b[1;31mTypeError\u001b[0m                                 Traceback (most recent call last)",
      "Cell \u001b[1;32mIn[48], line 1\u001b[0m\n\u001b[1;32m----> 1\u001b[0m \u001b[43mmy_list\u001b[49m\u001b[38;5;241;43m.\u001b[39;49m\u001b[43msort\u001b[49m\u001b[43m(\u001b[49m\u001b[43m)\u001b[49m\n",
      "\u001b[1;31mTypeError\u001b[0m: '<' not supported between instances of 'str' and 'int'"
     ]
    }
   ],
   "source": [
    "my_list.sort() # we get an error because we have a list inside our list and \n",
    "#python doesn't know how to sort them"
   ]
  },
  {
   "cell_type": "code",
   "execution_count": 49,
   "id": "8e7ca909-8e2e-453e-bf08-c047cfb98c80",
   "metadata": {},
   "outputs": [
    {
     "data": {
      "text/plain": [
       "[4,\n",
       " 5,\n",
       " 10,\n",
       " 20,\n",
       " 30,\n",
       " 'an_updated_string',\n",
       " 1000,\n",
       " [1, 2, 4, 5, 6, 7],\n",
       " 1,\n",
       " 2,\n",
       " 4,\n",
       " 5,\n",
       " 6,\n",
       " 7]"
      ]
     },
     "execution_count": 49,
     "metadata": {},
     "output_type": "execute_result"
    }
   ],
   "source": [
    "my_list"
   ]
  },
  {
   "cell_type": "code",
   "execution_count": 50,
   "id": "183c70d9-83cc-499f-9192-140baac15f8a",
   "metadata": {},
   "outputs": [],
   "source": [
    "my_list2 = [34,3421,2,13445,5,6]"
   ]
  },
  {
   "cell_type": "code",
   "execution_count": 51,
   "id": "d9e45d22-098b-4335-84a4-3aea1c6542aa",
   "metadata": {},
   "outputs": [],
   "source": [
    "my_list2.sort() # sorts in place"
   ]
  },
  {
   "cell_type": "code",
   "execution_count": 52,
   "id": "b4dada31-0e8e-48ae-ad5f-eca267cc2859",
   "metadata": {},
   "outputs": [
    {
     "data": {
      "text/plain": [
       "[2, 5, 6, 34, 3421, 13445]"
      ]
     },
     "execution_count": 52,
     "metadata": {},
     "output_type": "execute_result"
    }
   ],
   "source": [
    "my_list2"
   ]
  },
  {
   "cell_type": "code",
   "execution_count": 53,
   "id": "b4ed0210-f3b1-4937-a170-3b58ab7dda9c",
   "metadata": {},
   "outputs": [],
   "source": [
    "my_list3 = [34,3421,2,13445,5,6]"
   ]
  },
  {
   "cell_type": "code",
   "execution_count": 54,
   "id": "cf81c720-b2ca-4a55-a5d2-49be8e13b8b7",
   "metadata": {},
   "outputs": [
    {
     "data": {
      "text/plain": [
       "[2, 5, 6, 34, 3421, 13445]"
      ]
     },
     "execution_count": 54,
     "metadata": {},
     "output_type": "execute_result"
    }
   ],
   "source": [
    "sorted(my_list3) # doesn't sort in place. returns a sorted list, so you have to \n",
    "#assign the result to a variable if you want to use it"
   ]
  },
  {
   "cell_type": "code",
   "execution_count": 55,
   "id": "fefea5c3-5ce1-4551-9b2f-4ebbc7d997f1",
   "metadata": {},
   "outputs": [
    {
     "data": {
      "text/plain": [
       "[34, 3421, 2, 13445, 5, 6]"
      ]
     },
     "execution_count": 55,
     "metadata": {},
     "output_type": "execute_result"
    }
   ],
   "source": [
    "my_list3"
   ]
  },
  {
   "cell_type": "code",
   "execution_count": 56,
   "id": "020ad7a4-ba73-4f80-890f-d3efeae452e7",
   "metadata": {},
   "outputs": [],
   "source": [
    "new_list = my_list3"
   ]
  },
  {
   "cell_type": "code",
   "execution_count": 57,
   "id": "e3ad36d5-6577-486c-9f18-0118b551ed53",
   "metadata": {},
   "outputs": [
    {
     "data": {
      "text/plain": [
       "[34, 3421, 2, 13445, 5, 6]"
      ]
     },
     "execution_count": 57,
     "metadata": {},
     "output_type": "execute_result"
    }
   ],
   "source": [
    "new_list"
   ]
  },
  {
   "cell_type": "code",
   "execution_count": 58,
   "id": "08cfedee-da16-4f77-8e48-f68ec81853eb",
   "metadata": {},
   "outputs": [
    {
     "data": {
      "text/plain": [
       "[34, 3421, 2, 13445, 5, 6]"
      ]
     },
     "execution_count": 58,
     "metadata": {},
     "output_type": "execute_result"
    }
   ],
   "source": [
    "my_list3"
   ]
  },
  {
   "cell_type": "code",
   "execution_count": 59,
   "id": "c9792dde-cf98-4a54-aa8a-7df5dd0921b9",
   "metadata": {},
   "outputs": [],
   "source": [
    "new_list[0] = 3400"
   ]
  },
  {
   "cell_type": "code",
   "execution_count": 60,
   "id": "e095b09b-353a-4887-a292-427b454f7ae8",
   "metadata": {},
   "outputs": [
    {
     "data": {
      "text/plain": [
       "[3400, 3421, 2, 13445, 5, 6]"
      ]
     },
     "execution_count": 60,
     "metadata": {},
     "output_type": "execute_result"
    }
   ],
   "source": [
    "new_list"
   ]
  },
  {
   "cell_type": "code",
   "execution_count": 61,
   "id": "ccc4ff26-cc59-4bb4-88f5-c8122dc2fbda",
   "metadata": {},
   "outputs": [
    {
     "data": {
      "text/plain": [
       "[3400, 3421, 2, 13445, 5, 6]"
      ]
     },
     "execution_count": 61,
     "metadata": {},
     "output_type": "execute_result"
    }
   ],
   "source": [
    "my_list3"
   ]
  },
  {
   "cell_type": "code",
   "execution_count": 62,
   "id": "954a552e-cdea-46b9-846e-3ba0dbb5ce0c",
   "metadata": {},
   "outputs": [
    {
     "data": {
      "text/plain": [
       "1931636148480"
      ]
     },
     "execution_count": 62,
     "metadata": {},
     "output_type": "execute_result"
    }
   ],
   "source": [
    "id(my_list3)"
   ]
  },
  {
   "cell_type": "code",
   "execution_count": 63,
   "id": "7cb86da6-abc3-4387-a519-770d05b1a5c4",
   "metadata": {},
   "outputs": [
    {
     "data": {
      "text/plain": [
       "1931636148480"
      ]
     },
     "execution_count": 63,
     "metadata": {},
     "output_type": "execute_result"
    }
   ],
   "source": [
    "id(new_list)"
   ]
  },
  {
   "cell_type": "code",
   "execution_count": 64,
   "id": "3363347f-bdf9-4538-b073-afa737d59851",
   "metadata": {},
   "outputs": [],
   "source": [
    "new_list2 = my_list3.copy()"
   ]
  },
  {
   "cell_type": "code",
   "execution_count": 65,
   "id": "6ae7a9ea-f803-420a-acb0-6cb9028f3972",
   "metadata": {},
   "outputs": [],
   "source": [
    "new_list2[0] = 1000"
   ]
  },
  {
   "cell_type": "code",
   "execution_count": 66,
   "id": "11e0e57b-cda1-455a-a12d-ebbd38d613cf",
   "metadata": {},
   "outputs": [
    {
     "data": {
      "text/plain": [
       "[1000, 3421, 2, 13445, 5, 6]"
      ]
     },
     "execution_count": 66,
     "metadata": {},
     "output_type": "execute_result"
    }
   ],
   "source": [
    "new_list2"
   ]
  },
  {
   "cell_type": "code",
   "execution_count": 67,
   "id": "a138b380-93de-46c8-900b-ca3b14a2c154",
   "metadata": {},
   "outputs": [
    {
     "data": {
      "text/plain": [
       "[3400, 3421, 2, 13445, 5, 6]"
      ]
     },
     "execution_count": 67,
     "metadata": {},
     "output_type": "execute_result"
    }
   ],
   "source": [
    "my_list3"
   ]
  },
  {
   "cell_type": "markdown",
   "id": "813c8177-8d47-4e55-b808-7da7dc4c15fb",
   "metadata": {},
   "source": [
    "## f strings"
   ]
  },
  {
   "cell_type": "code",
   "execution_count": 68,
   "id": "99712357-777e-480c-80c2-0dd5e180a397",
   "metadata": {},
   "outputs": [],
   "source": [
    "my_string = f\"this is a string\""
   ]
  },
  {
   "cell_type": "code",
   "execution_count": 69,
   "id": "439beee5-0424-4c32-a78f-05055ba7686c",
   "metadata": {},
   "outputs": [
    {
     "data": {
      "text/plain": [
       "'this is a string'"
      ]
     },
     "execution_count": 69,
     "metadata": {},
     "output_type": "execute_result"
    }
   ],
   "source": [
    "my_string"
   ]
  },
  {
   "cell_type": "code",
   "execution_count": 70,
   "id": "358964e8-14d9-4b00-940e-bbecd4d5e06d",
   "metadata": {},
   "outputs": [],
   "source": [
    "age = 20"
   ]
  },
  {
   "cell_type": "code",
   "execution_count": 71,
   "id": "d96cfbb9-c51d-4dc6-bd08-fd1bc9cee237",
   "metadata": {},
   "outputs": [],
   "source": [
    "age_String = f\"My age is {age}\""
   ]
  },
  {
   "cell_type": "code",
   "execution_count": 72,
   "id": "83d213cb-6a0c-4a34-ae79-94670be4c2d1",
   "metadata": {},
   "outputs": [
    {
     "data": {
      "text/plain": [
       "'My age is 20'"
      ]
     },
     "execution_count": 72,
     "metadata": {},
     "output_type": "execute_result"
    }
   ],
   "source": [
    "age_String"
   ]
  },
  {
   "cell_type": "code",
   "execution_count": 73,
   "id": "291a79b0-d8c5-4939-af57-7553c4d733f6",
   "metadata": {},
   "outputs": [],
   "source": [
    "import random # any time we want to use a library, we have to import it"
   ]
  },
  {
   "cell_type": "code",
   "execution_count": 74,
   "id": "43d97b96-8079-4959-b8c7-ba4c4842c45b",
   "metadata": {},
   "outputs": [
    {
     "name": "stdout",
     "output_type": "stream",
     "text": [
      "5\n"
     ]
    }
   ],
   "source": [
    "a = random.randint(0,10)\n",
    "print(a)"
   ]
  },
  {
   "cell_type": "code",
   "execution_count": 75,
   "id": "4459a0b7-b140-439f-afd4-ee53a9020d2b",
   "metadata": {},
   "outputs": [
    {
     "name": "stdout",
     "output_type": "stream",
     "text": [
      "1.884823782078916\n"
     ]
    }
   ],
   "source": [
    "b = random.uniform(0,10)\n",
    "print(b)"
   ]
  },
  {
   "cell_type": "code",
   "execution_count": 76,
   "id": "29796069-1c88-4548-bc97-601686b1bc42",
   "metadata": {},
   "outputs": [
    {
     "data": {
      "text/plain": [
       "[3400, 3421, 2, 13445, 5, 6]"
      ]
     },
     "execution_count": 76,
     "metadata": {},
     "output_type": "execute_result"
    }
   ],
   "source": [
    "new_list"
   ]
  },
  {
   "cell_type": "code",
   "execution_count": 77,
   "id": "48181833-f17d-4650-a1f4-3d26e227fd73",
   "metadata": {},
   "outputs": [
    {
     "data": {
      "text/plain": [
       "[3421, 13445, 3400, 2, 6, 5]"
      ]
     },
     "execution_count": 77,
     "metadata": {},
     "output_type": "execute_result"
    }
   ],
   "source": [
    "random.shuffle(new_list)\n",
    "new_list"
   ]
  },
  {
   "cell_type": "code",
   "execution_count": 78,
   "id": "10ee5c4d-540a-4476-835c-f53b42ec9ee7",
   "metadata": {},
   "outputs": [
    {
     "data": {
      "text/plain": [
       "[3421, 13445, 3400, 2, 6, 5]"
      ]
     },
     "execution_count": 78,
     "metadata": {},
     "output_type": "execute_result"
    }
   ],
   "source": [
    "new_list"
   ]
  },
  {
   "cell_type": "code",
   "execution_count": 79,
   "id": "8582e76d-9483-4065-933d-2f9f3a378444",
   "metadata": {},
   "outputs": [
    {
     "data": {
      "text/plain": [
       "6"
      ]
     },
     "execution_count": 79,
     "metadata": {},
     "output_type": "execute_result"
    }
   ],
   "source": [
    "random.choice(new_list)"
   ]
  },
  {
   "cell_type": "markdown",
   "id": "07cc8981-b1b8-43ba-bcac-2ceaf2599b1b",
   "metadata": {},
   "source": [
    "## Class example\n",
    "\n",
    "Get three names from the user and select a random winner"
   ]
  },
  {
   "cell_type": "code",
   "execution_count": 80,
   "id": "8edbb6ea-fb6c-4326-9336-1a7c2f7af799",
   "metadata": {},
   "outputs": [
    {
     "name": "stdin",
     "output_type": "stream",
     "text": [
      "enter name Kyle\n",
      "enter name Jag\n",
      "enter name Marie\n"
     ]
    }
   ],
   "source": [
    "# make a list of names\n",
    "name = input(\"enter name\")\n",
    "name1 = input(\"enter name\")\n",
    "name2 = input(\"enter name\")"
   ]
  },
  {
   "cell_type": "code",
   "execution_count": 81,
   "id": "644171ac-7b56-46c3-850b-84b13c7dabff",
   "metadata": {},
   "outputs": [],
   "source": [
    "to_print = f'The first name is: {name}, the second name is {name1}, the last name is {name2}'"
   ]
  },
  {
   "cell_type": "code",
   "execution_count": 82,
   "id": "dcdda548-f999-4ec9-89ea-419b2fe9b480",
   "metadata": {},
   "outputs": [
    {
     "data": {
      "text/plain": [
       "'The first name is: Kyle, the second name is Jag, the last name is Marie'"
      ]
     },
     "execution_count": 82,
     "metadata": {},
     "output_type": "execute_result"
    }
   ],
   "source": [
    "to_print"
   ]
  },
  {
   "cell_type": "code",
   "execution_count": 83,
   "id": "10edef7e-86af-4d39-aab6-9c1863fae241",
   "metadata": {},
   "outputs": [],
   "source": [
    "name_lists = [name,name1,name2]"
   ]
  },
  {
   "cell_type": "code",
   "execution_count": 84,
   "id": "4da5d30e-508f-4c43-9606-6337dbe4652c",
   "metadata": {},
   "outputs": [
    {
     "data": {
      "text/plain": [
       "['Kyle', 'Jag', 'Marie']"
      ]
     },
     "execution_count": 84,
     "metadata": {},
     "output_type": "execute_result"
    }
   ],
   "source": [
    "name_lists"
   ]
  },
  {
   "cell_type": "code",
   "execution_count": 85,
   "id": "45895394-4882-4d0c-81f1-7517778e8ec3",
   "metadata": {},
   "outputs": [
    {
     "data": {
      "text/plain": [
       "2"
      ]
     },
     "execution_count": 85,
     "metadata": {},
     "output_type": "execute_result"
    }
   ],
   "source": [
    "# random number\n",
    "rand_no = random.randint(0,2)\n",
    "rand_no"
   ]
  },
  {
   "cell_type": "code",
   "execution_count": 86,
   "id": "8ca9e2d4-82ef-44de-9f77-7056f6a4b192",
   "metadata": {},
   "outputs": [
    {
     "data": {
      "text/plain": [
       "'Marie'"
      ]
     },
     "execution_count": 86,
     "metadata": {},
     "output_type": "execute_result"
    }
   ],
   "source": [
    "# use the number to pick the winner\n",
    "rand_no = random.randint(0,2)\n",
    "winner = name_lists[rand_no]\n",
    "winner"
   ]
  },
  {
   "cell_type": "code",
   "execution_count": 87,
   "id": "bde8889d-6742-4a19-b398-8ab3915c3841",
   "metadata": {},
   "outputs": [
    {
     "data": {
      "text/plain": [
       "'Marie'"
      ]
     },
     "execution_count": 87,
     "metadata": {},
     "output_type": "execute_result"
    }
   ],
   "source": [
    "winner"
   ]
  },
  {
   "cell_type": "code",
   "execution_count": 88,
   "id": "6e8fccfc-a1ba-439f-bfe5-75e90860b4fa",
   "metadata": {},
   "outputs": [
    {
     "name": "stdin",
     "output_type": "stream",
     "text": [
      "Enter names seperared by commas Kyle Johnsen, Marie Curie, Albert Einstein\n"
     ]
    }
   ],
   "source": [
    "name_in = input(\"Enter names seperared by commas\")\n",
    "names = name_in.split(\",\")\n",
    "winner = random.choice(names)\n"
   ]
  },
  {
   "cell_type": "code",
   "execution_count": 89,
   "id": "68ed7538-b4f0-476f-98fe-cfa06d986839",
   "metadata": {},
   "outputs": [
    {
     "data": {
      "text/plain": [
       "['Kyle Johnsen', ' Marie Curie', ' Albert Einstein']"
      ]
     },
     "execution_count": 89,
     "metadata": {},
     "output_type": "execute_result"
    }
   ],
   "source": [
    "names"
   ]
  },
  {
   "cell_type": "code",
   "execution_count": 90,
   "id": "1bb56236-9f7a-4c6b-bdb5-27e614c09449",
   "metadata": {},
   "outputs": [
    {
     "data": {
      "text/plain": [
       "'Kyle Johnsen'"
      ]
     },
     "execution_count": 90,
     "metadata": {},
     "output_type": "execute_result"
    }
   ],
   "source": [
    "winner"
   ]
  },
  {
   "cell_type": "code",
   "execution_count": 91,
   "id": "f5af0386-c9b1-4b30-b520-178f75a997a4",
   "metadata": {},
   "outputs": [
    {
     "name": "stdout",
     "output_type": "stream",
     "text": [
      " Marie Curie\n"
     ]
    }
   ],
   "source": [
    "winner = random.choice(names)\n",
    "print(winner)"
   ]
  },
  {
   "cell_type": "code",
   "execution_count": 92,
   "id": "16a35085-eb6b-4e40-9e67-6a0b5f662a1d",
   "metadata": {},
   "outputs": [
    {
     "name": "stdin",
     "output_type": "stream",
     "text": [
      "Enter names seperared by commas Jag, John, Maddie\n"
     ]
    }
   ],
   "source": [
    "winner = random.choice(input(\"Enter names seperared by commas\").split(\",\"))"
   ]
  },
  {
   "cell_type": "code",
   "execution_count": 1,
   "id": "4d2cfd44-f571-4282-a82c-aaee5749eea1",
   "metadata": {},
   "outputs": [
    {
     "data": {
      "text/plain": [
       "True"
      ]
     },
     "execution_count": 1,
     "metadata": {},
     "output_type": "execute_result"
    }
   ],
   "source": [
    "1 in [1,2,3,4]"
   ]
  },
  {
   "cell_type": "code",
   "execution_count": 2,
   "id": "54b93e0e-f4b3-47ee-8cd5-2171b9ba1372",
   "metadata": {},
   "outputs": [
    {
     "data": {
      "text/plain": [
       "False"
      ]
     },
     "execution_count": 2,
     "metadata": {},
     "output_type": "execute_result"
    }
   ],
   "source": [
    "100 in [1,2,3,4]"
   ]
  },
  {
   "cell_type": "code",
   "execution_count": null,
   "id": "70eda5cc-42d5-43ad-906a-fd954ae33651",
   "metadata": {},
   "outputs": [],
   "source": []
  }
 ],
 "metadata": {
  "kernelspec": {
   "display_name": "info2000",
   "language": "python",
   "name": "info2000"
  },
  "language_info": {
   "codemirror_mode": {
    "name": "ipython",
    "version": 3
   },
   "file_extension": ".py",
   "mimetype": "text/x-python",
   "name": "python",
   "nbconvert_exporter": "python",
   "pygments_lexer": "ipython3",
   "version": "3.9.16"
  }
 },
 "nbformat": 4,
 "nbformat_minor": 5
}
