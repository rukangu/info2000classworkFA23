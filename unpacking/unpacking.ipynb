{
 "cells": [
  {
   "cell_type": "code",
   "execution_count": 6,
   "metadata": {},
   "outputs": [],
   "source": [
    "# \n",
    "def balance_owed(apples, grapes, peanuts):\n",
    "    # apples : $2\n",
    "    # grapes: $5\n",
    "    # peanuts: $20\n",
    "    return apples * 2 + grapes *5 + peanuts * 20\n"
   ]
  },
  {
   "cell_type": "code",
   "execution_count": 10,
   "metadata": {},
   "outputs": [
    {
     "name": "stdout",
     "output_type": "stream",
     "text": [
      "You made: $10300 from this sale!\n"
     ]
    }
   ],
   "source": [
    "my_produce = {'apples':100, 'grapes': 20, 'peanuts':500}\n",
    "\n",
    "gross = balance_owed(**my_produce)\n",
    "\n",
    "# gross = balance_owed(apples=100, grapes=20, peanuts=500)\n",
    "\n",
    "print(f\"You made: ${gross} from this sale!\")"
   ]
  },
  {
   "cell_type": "code",
   "execution_count": 5,
   "metadata": {},
   "outputs": [],
   "source": [
    "var1,var2 = (100, 50)"
   ]
  },
  {
   "cell_type": "code",
   "execution_count": 11,
   "metadata": {},
   "outputs": [],
   "source": [
    "# create a functio that takes a variable number of parameters\n",
    "\n",
    "def my_fun(*args, **kwargs):\n",
    "    # args: positional arguments\n",
    "    # kwargs: kew word arguments\n",
    "    print(f\"positional arguments: {args}\")\n",
    "\n"
   ]
  },
  {
   "cell_type": "code",
   "execution_count": 12,
   "metadata": {},
   "outputs": [
    {
     "name": "stdout",
     "output_type": "stream",
     "text": [
      "positional arguments: (10, 20, 204, 213, 23)\n"
     ]
    }
   ],
   "source": [
    "# call it with positional argumanets only\n",
    "my_fun(10,20,204,213,23)"
   ]
  },
  {
   "cell_type": "code",
   "execution_count": 13,
   "metadata": {},
   "outputs": [
    {
     "name": "stdout",
     "output_type": "stream",
     "text": [
      "positional arguments: (10, 20, 204)\n"
     ]
    }
   ],
   "source": [
    "my_fun(10,20,204)"
   ]
  },
  {
   "cell_type": "code",
   "execution_count": 14,
   "metadata": {},
   "outputs": [
    {
     "name": "stdout",
     "output_type": "stream",
     "text": [
      "positional arguments: (10, 20)\n"
     ]
    }
   ],
   "source": [
    "my_fun(10,20)"
   ]
  },
  {
   "cell_type": "code",
   "execution_count": 32,
   "metadata": {},
   "outputs": [],
   "source": [
    "def my_fun(*args, **kwargs):\n",
    "    # args: positional arguments\n",
    "    # kwargs: kew word arguments\n",
    "    # print(f\"positional arguments: {args}\")\n",
    "    print(f\"apples: {kwargs['apples']}\")\n",
    "\n",
    "   "
   ]
  },
  {
   "cell_type": "code",
   "execution_count": 33,
   "metadata": {},
   "outputs": [
    {
     "name": "stdout",
     "output_type": "stream",
     "text": [
      "apples: 100\n"
     ]
    }
   ],
   "source": [
    "my_produce = {'apples':100, 'grapes': 20, 'peanuts':500}\n",
    "my_fun(**my_produce)"
   ]
  },
  {
   "cell_type": "code",
   "execution_count": 21,
   "metadata": {},
   "outputs": [
    {
     "data": {
      "text/plain": [
       "{'apples': 100, 'grapes': 20, 'peanuts': 500}"
      ]
     },
     "execution_count": 21,
     "metadata": {},
     "output_type": "execute_result"
    }
   ],
   "source": [
    "my_produce\n"
   ]
  },
  {
   "cell_type": "code",
   "execution_count": null,
   "metadata": {},
   "outputs": [],
   "source": []
  }
 ],
 "metadata": {
  "kernelspec": {
   "display_name": "info2000",
   "language": "python",
   "name": "python3"
  },
  "language_info": {
   "codemirror_mode": {
    "name": "ipython",
    "version": 3
   },
   "file_extension": ".py",
   "mimetype": "text/x-python",
   "name": "python",
   "nbconvert_exporter": "python",
   "pygments_lexer": "ipython3",
   "version": "3.9.16"
  }
 },
 "nbformat": 4,
 "nbformat_minor": 2
}
