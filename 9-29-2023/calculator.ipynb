{
 "cells": [
  {
   "cell_type": "code",
   "execution_count": null,
   "id": "9ed467f8-20a5-419d-b6cb-9a226931a053",
   "metadata": {},
   "outputs": [],
   "source": [
    "# our very own calcultor\n",
    "\n",
    "# addition\n",
    "# subtraction\n",
    "# multiplication\n",
    "# division\n",
    "\n",
    "# user to decide the operation they want\n",
    "\n",
    "# do some error processing "
   ]
  },
  {
   "cell_type": "code",
   "execution_count": 8,
   "id": "53ef1b74-1dfa-4925-a3dc-4580a4f374ef",
   "metadata": {},
   "outputs": [],
   "source": [
    "quit_options = ['q', 'no','n']\n",
    "\n",
    "# function to get valid user input\n",
    "\n",
    "def get_valid_num(to_print = ''):\n",
    "    while True:        \n",
    "        user_in = input(to_print)\n",
    "        # we need a way to confirm that the number is an int or float\n",
    "        try:\n",
    "            to_return = float(user_in)\n",
    "            break \n",
    "        except:\n",
    "            print(\"Enter an int or a float!\")\n",
    "    #outside the while true\n",
    "    return to_return\n",
    "        \n",
    "\n",
    "# functions for the operations\n",
    "def addition():\n",
    "    return get_valid_num('enter number:') + get_valid_num('enter second number')\n",
    "def subtraction():\n",
    "    return input('enter number:') - input('Enter number')\n",
    "def multiply():\n",
    "    return input('enter number:') * input('Enter number')\n",
    "def division():\n",
    "    return input('enter number:') / input('Enter number')\n",
    "\n",
    "def calcultor():\n",
    "    while True:\n",
    "        print(\"1:addition\",\"2:subtraction\",\"3:multiplication\",'4:division','q:quit', sep = '\\n')\n",
    "        operation = input()\n",
    "        if operation.casefold() in quit_options:\n",
    "            break\n",
    "        elif operation.casefold() == '1':\n",
    "            # result = addition()\n",
    "            # print (result)\n",
    "            print(addition())\n",
    "        elif operation.casefold() == '2':\n",
    "            subtraction()\n",
    "        elif operation.casefold() == '3':\n",
    "            multiply()\n",
    "        elif operation.casefold() == '4':\n",
    "            division()\n",
    "        else:\n",
    "            print(\"Enter 1-4, or q to quit\")\n",
    "    print(\"bye\")\n"
   ]
  },
  {
   "cell_type": "code",
   "execution_count": null,
   "id": "e4f2c673-5c1f-4261-8fd5-2d57d7497739",
   "metadata": {},
   "outputs": [
    {
     "name": "stdout",
     "output_type": "stream",
     "text": [
      "1:addition\n",
      "2:subtraction\n",
      "3:multiplication\n",
      "4:division\n",
      "q:quit\n"
     ]
    },
    {
     "name": "stdin",
     "output_type": "stream",
     "text": [
      " 1\n",
      "enter number: 90\n",
      "enter second number rer\n"
     ]
    },
    {
     "name": "stdout",
     "output_type": "stream",
     "text": [
      "Enter an int or a float!\n"
     ]
    },
    {
     "name": "stdin",
     "output_type": "stream",
     "text": [
      "enter second number qweqwerwqrerwq\n"
     ]
    },
    {
     "name": "stdout",
     "output_type": "stream",
     "text": [
      "Enter an int or a float!\n"
     ]
    },
    {
     "name": "stdin",
     "output_type": "stream",
     "text": [
      "enter second number 10\n"
     ]
    },
    {
     "name": "stdout",
     "output_type": "stream",
     "text": [
      "100.0\n",
      "1:addition\n",
      "2:subtraction\n",
      "3:multiplication\n",
      "4:division\n",
      "q:quit\n"
     ]
    }
   ],
   "source": [
    "calcultor()"
   ]
  },
  {
   "cell_type": "code",
   "execution_count": 1,
   "id": "2d17e8bc-0c7a-4e6a-9de9-19f4a84aae38",
   "metadata": {},
   "outputs": [
    {
     "name": "stdout",
     "output_type": "stream",
     "text": [
      "1:addition \n",
      "2: division\n"
     ]
    }
   ],
   "source": [
    "print(\"1:addition \\n2: division\") "
   ]
  },
  {
   "cell_type": "code",
   "execution_count": 4,
   "id": "97550ed0-be30-4bba-9e01-633272ae6b2a",
   "metadata": {},
   "outputs": [
    {
     "name": "stdout",
     "output_type": "stream",
     "text": [
      "1:addition \n",
      "2: division\n"
     ]
    }
   ],
   "source": [
    "print(\"1:addition \",\"2: division\",sep = '\\n') "
   ]
  },
  {
   "cell_type": "code",
   "execution_count": 7,
   "id": "7b7fc51b-e4bb-4f92-8d9a-6db89484a16c",
   "metadata": {},
   "outputs": [
    {
     "ename": "ValueError",
     "evalue": "could not convert string to float: 'x'",
     "output_type": "error",
     "traceback": [
      "\u001b[1;31m----------------------------------------\u001b[0m",
      "\u001b[1;31mValueError\u001b[0mTraceback (most recent call last)",
      "Cell \u001b[1;32mIn[7], line 1\u001b[0m\n\u001b[1;32m----> 1\u001b[0m \u001b[38;5;28;43mfloat\u001b[39;49m\u001b[43m(\u001b[49m\u001b[38;5;124;43m'\u001b[39;49m\u001b[38;5;124;43mx\u001b[39;49m\u001b[38;5;124;43m'\u001b[39;49m\u001b[43m)\u001b[49m\n",
      "\u001b[1;31mValueError\u001b[0m: could not convert string to float: 'x'"
     ]
    }
   ],
   "source": [
    "float('x')"
   ]
  },
  {
   "cell_type": "code",
   "execution_count": null,
   "id": "cf5a672a-a51f-49d8-9b1c-2eccefc2e113",
   "metadata": {},
   "outputs": [],
   "source": []
  }
 ],
 "metadata": {
  "kernelspec": {
   "display_name": "info2000",
   "language": "python",
   "name": "info2000"
  },
  "language_info": {
   "codemirror_mode": {
    "name": "ipython",
    "version": 3
   },
   "file_extension": ".py",
   "mimetype": "text/x-python",
   "name": "python",
   "nbconvert_exporter": "python",
   "pygments_lexer": "ipython3",
   "version": "3.9.16"
  }
 },
 "nbformat": 4,
 "nbformat_minor": 5
}
