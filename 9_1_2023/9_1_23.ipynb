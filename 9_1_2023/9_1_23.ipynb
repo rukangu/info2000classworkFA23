{
 "cells": [
  {
   "cell_type": "code",
   "execution_count": 2,
   "id": "14dcd39a-3c39-4c70-8094-444bbaacf8a4",
   "metadata": {},
   "outputs": [
    {
     "name": "stdout",
     "output_type": "stream",
     "text": [
      "Hello world\n"
     ]
    }
   ],
   "source": [
    "print(\"Hello world\")"
   ]
  },
  {
   "cell_type": "markdown",
   "id": "14b4e3f9-5d13-4366-8218-ede0ed005720",
   "metadata": {},
   "source": [
    "# This is header"
   ]
  },
  {
   "cell_type": "markdown",
   "id": "3912c05c-7f4d-45d6-8a24-245877f1fd4e",
   "metadata": {},
   "source": [
    "## this is a smaller header"
   ]
  },
  {
   "cell_type": "code",
   "execution_count": 3,
   "id": "4bf26f70-3501-46bd-b0df-fc7bc2c274b0",
   "metadata": {},
   "outputs": [
    {
     "name": "stdin",
     "output_type": "stream",
     "text": [
      "Enter your name Andrew Rukangu\n"
     ]
    }
   ],
   "source": [
    "my_name = input(\"Enter your name\")"
   ]
  },
  {
   "cell_type": "code",
   "execution_count": 4,
   "id": "0b8dedf4-7d01-41e7-a211-f68b528a9273",
   "metadata": {},
   "outputs": [
    {
     "data": {
      "text/plain": [
       "'Andrew Rukangu'"
      ]
     },
     "execution_count": 4,
     "metadata": {},
     "output_type": "execute_result"
    }
   ],
   "source": [
    "my_name"
   ]
  },
  {
   "cell_type": "code",
   "execution_count": 6,
   "id": "636099c6-62b2-47dc-977d-502bfd1e36b6",
   "metadata": {},
   "outputs": [
    {
     "name": "stdout",
     "output_type": "stream",
     "text": [
      "Hello world\n"
     ]
    }
   ],
   "source": [
    "print(\"Hello world\")"
   ]
  },
  {
   "cell_type": "code",
   "execution_count": null,
   "id": "91578156-1291-42fa-afb0-5da51a08c4ba",
   "metadata": {},
   "outputs": [],
   "source": []
  }
 ],
 "metadata": {
  "kernelspec": {
   "display_name": "info2000",
   "language": "python",
   "name": "info2000"
  },
  "language_info": {
   "codemirror_mode": {
    "name": "ipython",
    "version": 3
   },
   "file_extension": ".py",
   "mimetype": "text/x-python",
   "name": "python",
   "nbconvert_exporter": "python",
   "pygments_lexer": "ipython3",
   "version": "3.9.16"
  }
 },
 "nbformat": 4,
 "nbformat_minor": 5
}
